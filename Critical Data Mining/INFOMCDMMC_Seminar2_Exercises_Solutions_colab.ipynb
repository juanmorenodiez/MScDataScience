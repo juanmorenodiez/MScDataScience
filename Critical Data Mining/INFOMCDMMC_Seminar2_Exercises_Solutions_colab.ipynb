{
  "cells": [
    {
      "cell_type": "markdown",
      "metadata": {
        "id": "dmwpcf91WSho"
      },
      "source": [
        "### ***Critical Data Mining of Media Culture (INFOMCDMMC 2022-2023)***"
      ]
    },
    {
      "cell_type": "markdown",
      "metadata": {
        "id": "zl1VXWSEWSh2"
      },
      "source": [
        "#### Seminar II 22-11-22 Exercises (in pairs)\n",
        "\n",
        " * A) Automated Content Analysis TF-IDF & KMeans Clustering\n",
        " \n",
        " * B) LDA Topic Modeling\n",
        " \n",
        " * C) Dictionary-based Content Analysis"
      ]
    },
    {
      "cell_type": "markdown",
      "metadata": {
        "id": "cfRnk9NeWSh5"
      },
      "source": [
        "##### Imports"
      ]
    },
    {
      "cell_type": "code",
      "execution_count": null,
      "metadata": {
        "colab": {
          "base_uri": "https://localhost:8080/"
        },
        "id": "AXcp4gyJWSh7",
        "outputId": "fd85a100-8fa3-48e0-bba4-fd4257eebc4f"
      },
      "outputs": [
        {
          "name": "stderr",
          "output_type": "stream",
          "text": [
            "[nltk_data] Downloading package stopwords to /root/nltk_data...\n",
            "[nltk_data]   Unzipping corpora/stopwords.zip.\n"
          ]
        }
      ],
      "source": [
        "#stats\n",
        "import pandas as pd\n",
        "import sklearn\n",
        "from sklearn.feature_extraction.text import TfidfVectorizer\n",
        "from sklearn.cluster import KMeans\n",
        "from sklearn import cluster\n",
        "import matplotlib.pyplot as plt\n",
        "import matplotlib.ticker as ticker\n",
        "import numpy  as np\n",
        "\n",
        "#support\n",
        "import re\n",
        "import html\n",
        "import datetime\n",
        "import os\n",
        "from os import listdir\n",
        "from os.path import isfile, join\n",
        "from pathlib import Path\n",
        "import json\n",
        "from os.path import basename\n",
        "from zipfile import ZipFile\n",
        "import string\n",
        "import pickle\n",
        "\n",
        "\n",
        "#NLP\n",
        "import nltk\n",
        "from nltk.tokenize import word_tokenize \n",
        "from nltk.corpus import stopwords\n",
        "nltk.download('stopwords')\n",
        "lemmatizer = nltk.stem.WordNetLemmatizer()\n",
        "\n",
        "import spacy\n",
        "from spacy.symbols import nsubj, VERB\n",
        "nlp = spacy.load(\"en_core_web_sm\")\n",
        "\n",
        "from wordcloud import WordCloud\n",
        "\n",
        "#LDA\n",
        "import gensim\n",
        "import gensim.corpora as corpora\n",
        "from gensim.utils import simple_preprocess\n",
        "from gensim.models import CoherenceModel, LdaModel, LsiModel, HdpModel\n",
        "from gensim import corpora, models\n",
        "from gensim.models import Phrases\n",
        "from gensim.corpora import Dictionary\n",
        "\n",
        "\n",
        "#Visualisation\n",
        "import matplotlib.pyplot as plt\n",
        "import matplotlib.ticker as ticker\n",
        "\n",
        "from pprint import pprint\n",
        "\n",
        "#LDA Visualisation (optional)\n",
        "import pickle\n",
        "#import pyLDAvis\n",
        "#import pyLDAvis.gensim_models as gensimvis\n",
        "\n",
        "#import shifterator as sh\n",
        "#import networkx as nx\n",
        "#from collections import defaultdict"
      ]
    },
    {
      "cell_type": "code",
      "execution_count": null,
      "metadata": {
        "id": "27vFrcReNdJt"
      },
      "outputs": [],
      "source": [
        "\n",
        "!pip install itables\n",
        "from itables import init_notebook_mode\n",
        "init_notebook_mode(all_interactive=True)"
      ]
    },
    {
      "cell_type": "markdown",
      "metadata": {
        "id": "OFF_Is68WSiE"
      },
      "source": [
        "##### A.1) Load and explore the dataset (news_sample.csv or news_sample.p, whatever you fancy)!"
      ]
    },
    {
      "cell_type": "code",
      "execution_count": null,
      "metadata": {
        "id": "P08GlnulWSiF"
      },
      "outputs": [],
      "source": [
        "#Load the data file\n",
        "\n",
        "!wget --no-check-certificate 'https://docs.google.com/uc?export=download&id=1J58MyX58PwTfX2aQ38nWMwC74_djjMYl' -O news_sample.csv\n",
        "df = pd.read_csv('news_sample.csv',index_col=0)\n",
        "df.head()\n",
        "\n"
      ]
    },
    {
      "cell_type": "code",
      "execution_count": null,
      "metadata": {
        "colab": {
          "base_uri": "https://localhost:8080/"
        },
        "id": "IbHWUvasWSiH",
        "outputId": "5ae3339b-e853-4036-de1a-c54310f90692"
      },
      "outputs": [
        {
          "data": {
            "text/plain": [
              "(2000, 8)"
            ]
          },
          "execution_count": 5,
          "metadata": {},
          "output_type": "execute_result"
        }
      ],
      "source": [
        "df.shape"
      ]
    },
    {
      "cell_type": "markdown",
      "metadata": {
        "id": "Kt8ZjEeZWSiJ"
      },
      "source": [
        "##### A.2) Pre-process the news texts and put them in a new column! You may need to convert the columns into the right data type (str) before you can proceeed.\n",
        "\n",
        "jz: inspect data type of all columns\n",
        "\"object\" explain  https://pbpython.com/pandas_dtypes.html\n"
      ]
    },
    {
      "cell_type": "code",
      "execution_count": null,
      "metadata": {
        "id": "BrwXJHDEWSiK"
      },
      "outputs": [],
      "source": [
        "#First, you need to convert the respective columns into strings - students will run into an error otherwise.\n",
        "#For more about .astype check https://pandas.pydata.org/docs/reference/api/pandas.DataFrame.astype.html\n",
        "df['title'] = df['title'].astype(str)\n",
        "df['description'] = df['description'].astype(str)\n",
        "df['body'] = df['body'].astype(str)"
      ]
    },
    {
      "cell_type": "code",
      "execution_count": null,
      "metadata": {
        "colab": {
          "base_uri": "https://localhost:8080/",
          "height": 337
        },
        "id": "5NyKHwy1WSiM",
        "outputId": "ada71956-93fb-44f7-bdbf-566b077dfdb0"
      },
      "outputs": [
        {
          "data": {
            "text/html": [
              "\n",
              "  <div id=\"df-6af7582f-7d06-43cd-86c3-ae9dda019b55\">\n",
              "    <div class=\"colab-df-container\">\n",
              "      <div>\n",
              "<style scoped>\n",
              "    .dataframe tbody tr th:only-of-type {\n",
              "        vertical-align: middle;\n",
              "    }\n",
              "\n",
              "    .dataframe tbody tr th {\n",
              "        vertical-align: top;\n",
              "    }\n",
              "\n",
              "    .dataframe thead th {\n",
              "        text-align: right;\n",
              "    }\n",
              "</style>\n",
              "<table border=\"1\" class=\"dataframe\">\n",
              "  <thead>\n",
              "    <tr style=\"text-align: right;\">\n",
              "      <th></th>\n",
              "      <th>outlet</th>\n",
              "      <th>title</th>\n",
              "      <th>keywords</th>\n",
              "      <th>description</th>\n",
              "      <th>datetime</th>\n",
              "      <th>authors</th>\n",
              "      <th>category</th>\n",
              "      <th>body</th>\n",
              "      <th>text_nlp</th>\n",
              "    </tr>\n",
              "  </thead>\n",
              "  <tbody>\n",
              "    <tr>\n",
              "      <th>7780</th>\n",
              "      <td>Wired</td>\n",
              "      <td>How to Watch Movies in Virtual Reality</td>\n",
              "      <td>['meta', 'netflix', 'amazon prime', 'oculus', ...</td>\n",
              "      <td>Setting up a VR cinema is simple and proves yo...</td>\n",
              "      <td>2022-01-09 07:00:00</td>\n",
              "      <td>['Reece Rogers']</td>\n",
              "      <td>Gear</td>\n",
              "      <td>With bots and console resellers snatching away...</td>\n",
              "      <td>(With, bots, and, console, resellers, snatchin...</td>\n",
              "    </tr>\n",
              "    <tr>\n",
              "      <th>15708</th>\n",
              "      <td>Guardian</td>\n",
              "      <td>Can we create a moral metaverse?</td>\n",
              "      <td>['The metaverse', 'Virtual reality', 'Online a...</td>\n",
              "      <td>In the increasingly lifelike worlds of VR, hig...</td>\n",
              "      <td>2022-05-14 14:00:04</td>\n",
              "      <td>['Laurie Clarke']</td>\n",
              "      <td>Technology</td>\n",
              "      <td>Psychotherapist Nina Jane Patel had been on F...</td>\n",
              "      <td>( , Psychotherapist, Nina, Jane, Patel, had, b...</td>\n",
              "    </tr>\n",
              "    <tr>\n",
              "      <th>11975</th>\n",
              "      <td>NYT</td>\n",
              "      <td>92nd Street Y to Host Ron Howard, Gwyneth Palt...</td>\n",
              "      <td>['Books', 'Ninety-Second Street Y', 'Gwyneth P...</td>\n",
              "      <td>The 2019-20 season also features appearances b...</td>\n",
              "      <td>2019-07-17 17:00:04</td>\n",
              "      <td>Sara Aridi</td>\n",
              "      <td>Arts</td>\n",
              "      <td>The upcoming season at 92nd Street Y will feat...</td>\n",
              "      <td>(The, upcoming, season, at, 92nd, Street, Y, w...</td>\n",
              "    </tr>\n",
              "    <tr>\n",
              "      <th>12986</th>\n",
              "      <td>NYT</td>\n",
              "      <td>Steven Spielberg on Storytelling’s Power to Fi...</td>\n",
              "      <td>['Steven Spielberg', 'Shoah Foundation', 'War ...</td>\n",
              "      <td>The director is reissuing “Schindler’s List,” ...</td>\n",
              "      <td>2018-12-18 20:19:54</td>\n",
              "      <td>Adam Popescu</td>\n",
              "      <td>Arts</td>\n",
              "      <td>LOS ANGELES — “Pinchas, how old are you?” Stev...</td>\n",
              "      <td>(LOS, ANGELES, —, “, Pinchas, ,, how, old, are...</td>\n",
              "    </tr>\n",
              "    <tr>\n",
              "      <th>5671</th>\n",
              "      <td>Wired</td>\n",
              "      <td>Mass Transit Is in Jeopardy—and So Are Cities</td>\n",
              "      <td>['public transportation', 'mass transit', 'cit...</td>\n",
              "      <td>Subways and buses are the lifeblood of dense c...</td>\n",
              "      <td>2020-12-14 07:00:00</td>\n",
              "      <td>['Aarian Marshall']</td>\n",
              "      <td>Business</td>\n",
              "      <td>In the New York City of February 2020, a misse...</td>\n",
              "      <td>(In, the, New, York, City, of, February, 2020,...</td>\n",
              "    </tr>\n",
              "  </tbody>\n",
              "</table>\n",
              "</div>\n",
              "      <button class=\"colab-df-convert\" onclick=\"convertToInteractive('df-6af7582f-7d06-43cd-86c3-ae9dda019b55')\"\n",
              "              title=\"Convert this dataframe to an interactive table.\"\n",
              "              style=\"display:none;\">\n",
              "        \n",
              "  <svg xmlns=\"http://www.w3.org/2000/svg\" height=\"24px\"viewBox=\"0 0 24 24\"\n",
              "       width=\"24px\">\n",
              "    <path d=\"M0 0h24v24H0V0z\" fill=\"none\"/>\n",
              "    <path d=\"M18.56 5.44l.94 2.06.94-2.06 2.06-.94-2.06-.94-.94-2.06-.94 2.06-2.06.94zm-11 1L8.5 8.5l.94-2.06 2.06-.94-2.06-.94L8.5 2.5l-.94 2.06-2.06.94zm10 10l.94 2.06.94-2.06 2.06-.94-2.06-.94-.94-2.06-.94 2.06-2.06.94z\"/><path d=\"M17.41 7.96l-1.37-1.37c-.4-.4-.92-.59-1.43-.59-.52 0-1.04.2-1.43.59L10.3 9.45l-7.72 7.72c-.78.78-.78 2.05 0 2.83L4 21.41c.39.39.9.59 1.41.59.51 0 1.02-.2 1.41-.59l7.78-7.78 2.81-2.81c.8-.78.8-2.07 0-2.86zM5.41 20L4 18.59l7.72-7.72 1.47 1.35L5.41 20z\"/>\n",
              "  </svg>\n",
              "      </button>\n",
              "      \n",
              "  <style>\n",
              "    .colab-df-container {\n",
              "      display:flex;\n",
              "      flex-wrap:wrap;\n",
              "      gap: 12px;\n",
              "    }\n",
              "\n",
              "    .colab-df-convert {\n",
              "      background-color: #E8F0FE;\n",
              "      border: none;\n",
              "      border-radius: 50%;\n",
              "      cursor: pointer;\n",
              "      display: none;\n",
              "      fill: #1967D2;\n",
              "      height: 32px;\n",
              "      padding: 0 0 0 0;\n",
              "      width: 32px;\n",
              "    }\n",
              "\n",
              "    .colab-df-convert:hover {\n",
              "      background-color: #E2EBFA;\n",
              "      box-shadow: 0px 1px 2px rgba(60, 64, 67, 0.3), 0px 1px 3px 1px rgba(60, 64, 67, 0.15);\n",
              "      fill: #174EA6;\n",
              "    }\n",
              "\n",
              "    [theme=dark] .colab-df-convert {\n",
              "      background-color: #3B4455;\n",
              "      fill: #D2E3FC;\n",
              "    }\n",
              "\n",
              "    [theme=dark] .colab-df-convert:hover {\n",
              "      background-color: #434B5C;\n",
              "      box-shadow: 0px 1px 3px 1px rgba(0, 0, 0, 0.15);\n",
              "      filter: drop-shadow(0px 1px 2px rgba(0, 0, 0, 0.3));\n",
              "      fill: #FFFFFF;\n",
              "    }\n",
              "  </style>\n",
              "\n",
              "      <script>\n",
              "        const buttonEl =\n",
              "          document.querySelector('#df-6af7582f-7d06-43cd-86c3-ae9dda019b55 button.colab-df-convert');\n",
              "        buttonEl.style.display =\n",
              "          google.colab.kernel.accessAllowed ? 'block' : 'none';\n",
              "\n",
              "        async function convertToInteractive(key) {\n",
              "          const element = document.querySelector('#df-6af7582f-7d06-43cd-86c3-ae9dda019b55');\n",
              "          const dataTable =\n",
              "            await google.colab.kernel.invokeFunction('convertToInteractive',\n",
              "                                                     [key], {});\n",
              "          if (!dataTable) return;\n",
              "\n",
              "          const docLinkHtml = 'Like what you see? Visit the ' +\n",
              "            '<a target=\"_blank\" href=https://colab.research.google.com/notebooks/data_table.ipynb>data table notebook</a>'\n",
              "            + ' to learn more about interactive tables.';\n",
              "          element.innerHTML = '';\n",
              "          dataTable['output_type'] = 'display_data';\n",
              "          await google.colab.output.renderOutput(dataTable, element);\n",
              "          const docLink = document.createElement('div');\n",
              "          docLink.innerHTML = docLinkHtml;\n",
              "          element.appendChild(docLink);\n",
              "        }\n",
              "      </script>\n",
              "    </div>\n",
              "  </div>\n",
              "  "
            ],
            "text/plain": [
              "         outlet                                              title  \\\n",
              "7780      Wired             How to Watch Movies in Virtual Reality   \n",
              "15708  Guardian                   Can we create a moral metaverse?   \n",
              "11975       NYT  92nd Street Y to Host Ron Howard, Gwyneth Palt...   \n",
              "12986       NYT  Steven Spielberg on Storytelling’s Power to Fi...   \n",
              "5671      Wired      Mass Transit Is in Jeopardy—and So Are Cities   \n",
              "\n",
              "                                                keywords  \\\n",
              "7780   ['meta', 'netflix', 'amazon prime', 'oculus', ...   \n",
              "15708  ['The metaverse', 'Virtual reality', 'Online a...   \n",
              "11975  ['Books', 'Ninety-Second Street Y', 'Gwyneth P...   \n",
              "12986  ['Steven Spielberg', 'Shoah Foundation', 'War ...   \n",
              "5671   ['public transportation', 'mass transit', 'cit...   \n",
              "\n",
              "                                             description             datetime  \\\n",
              "7780   Setting up a VR cinema is simple and proves yo...  2022-01-09 07:00:00   \n",
              "15708  In the increasingly lifelike worlds of VR, hig...  2022-05-14 14:00:04   \n",
              "11975  The 2019-20 season also features appearances b...  2019-07-17 17:00:04   \n",
              "12986  The director is reissuing “Schindler’s List,” ...  2018-12-18 20:19:54   \n",
              "5671   Subways and buses are the lifeblood of dense c...  2020-12-14 07:00:00   \n",
              "\n",
              "                   authors    category  \\\n",
              "7780      ['Reece Rogers']        Gear   \n",
              "15708    ['Laurie Clarke']  Technology   \n",
              "11975           Sara Aridi        Arts   \n",
              "12986         Adam Popescu        Arts   \n",
              "5671   ['Aarian Marshall']    Business   \n",
              "\n",
              "                                                    body  \\\n",
              "7780   With bots and console resellers snatching away...   \n",
              "15708   Psychotherapist Nina Jane Patel had been on F...   \n",
              "11975  The upcoming season at 92nd Street Y will feat...   \n",
              "12986  LOS ANGELES — “Pinchas, how old are you?” Stev...   \n",
              "5671   In the New York City of February 2020, a misse...   \n",
              "\n",
              "                                                text_nlp  \n",
              "7780   (With, bots, and, console, resellers, snatchin...  \n",
              "15708  ( , Psychotherapist, Nina, Jane, Patel, had, b...  \n",
              "11975  (The, upcoming, season, at, 92nd, Street, Y, w...  \n",
              "12986  (LOS, ANGELES, —, “, Pinchas, ,, how, old, are...  \n",
              "5671   (In, the, New, York, City, of, February, 2020,...  "
            ]
          },
          "execution_count": 7,
          "metadata": {},
          "output_type": "execute_result"
        }
      ],
      "source": [
        "#Function for NLP for separating features (Spacy)\n",
        "def do_nlp(x):\n",
        "    doc = nlp(x)\n",
        "    return doc\n",
        "    \n",
        "#Create new column with words separated - this may take a few minutes (on my machine 7-8 min)!\n",
        "df['text_nlp'] = df['body'].apply(lambda x: do_nlp(x))\n",
        "df.head()\n",
        "\n"
      ]
    },
    {
      "cell_type": "markdown",
      "metadata": {
        "id": "0jx9VowVWSiN"
      },
      "source": [
        "##### A.3) Use Spacy to select features you want to keep/throw out! Does it make sense to keep all features in? Try different combinations and see how the results change later on. [Read more about Spacy here.](https://spacy.io)"
      ]
    },
    {
      "cell_type": "code",
      "execution_count": null,
      "metadata": {
        "id": "k5Yu9JhsWSiO"
      },
      "outputs": [],
      "source": [
        "#Function to include text \"features\" (https://spacy.io/usage/linguistic-features)\n",
        "def include_features(x):\n",
        "    include_features = ['VERB', 'PROPN', 'NOUN', 'ADJ'] #see the table below for explaination of tags, try with different combinations\n",
        "    #text = ' '.join([ent.text for ent in x if ent.tag_ in include_features])\n",
        "    text = ' '.join([ent.text for ent in x if ent.pos_ in include_features])   \n",
        "    return text\n",
        "\n",
        "df['features'] = df['text_nlp'].apply(lambda x: include_features(x))\n"
      ]
    },
    {
      "cell_type": "code",
      "execution_count": null,
      "metadata": {
        "colab": {
          "base_uri": "https://localhost:8080/",
          "height": 1000
        },
        "id": "eiJxheEXIWvW",
        "outputId": "b8f7564a-14ee-4519-ba69-0fd698b649ed"
      },
      "outputs": [
        {
          "data": {
            "text/html": [
              "<style>.itables table td {\n",
              "    text-overflow: ellipsis;\n",
              "    overflow: hidden;\n",
              "}\n",
              "\n",
              ".itables table th {\n",
              "    text-overflow: ellipsis;\n",
              "    overflow: hidden;\n",
              "}\n",
              "\n",
              ".itables thead input {\n",
              "    width: 100%;\n",
              "    padding: 3px;\n",
              "    box-sizing: border-box;\n",
              "}\n",
              "\n",
              ".itables tfoot input {\n",
              "    width: 100%;\n",
              "    padding: 3px;\n",
              "    box-sizing: border-box;\n",
              "}\n",
              "</style>\n",
              "<div class=\"itables\">\n",
              "<table id=\"73438444-ff48-4d3f-8d4d-02b0f81019cc\" class=\"display\"style=\"width:auto;\"><thead>\n",
              "    <tr style=\"text-align: right;\">\n",
              "      <th></th>\n",
              "      <th>features</th>\n",
              "    </tr>\n",
              "  </thead><tbody><tr><td>Loading... (need <a href=https://mwouts.github.io/itables/troubleshooting.html>help</a>?)</td></tr></tbody></table>\n",
              "<link rel=\"stylesheet\" type=\"text/css\" href=\"https://cdn.datatables.net/1.12.1/css/jquery.dataTables.min.css\">\n",
              "<script type=\"module\">\n",
              "    // Import jquery and DataTable\n",
              "    import 'https://code.jquery.com/jquery-3.6.0.min.js';\n",
              "    import dt from 'https://cdn.datatables.net/1.12.1/js/jquery.dataTables.mjs';\n",
              "    dt($);\n",
              "\n",
              "    // Define the table data\n",
              "    const data = [[7780, \"bots console resellers snatching many people chance purchase PlayStation new OLED Switch virtual reality headsets popular gift holiday season Meta Oculus Quest particular experienced surge corresponding app downloads heading new year finished slashing Beat Saber Lady Gaga music pack need break Horizon Workroom VR headset owners take time kick stream movie Supernatural workout roll tomorrow earned few experiences watching movie VR headset mean immersed action streaming VR avatar placed virtual room cinema 2D viewing screen Streaming services Netflix Prime Video have native apps Quest easy download Video demand rentals YouTube Bigscreen require couple more steps process straightforward Other movies accessed VR browsers downloaded headset setting Remote Desktop Client Bigscreen takes few minutes process worth have video files saved computer use headset home guide VR movie watching focused Quest suggestions applicable HTC Vive Valve Index Look Twilight need download Netflix app watch streaming service movies VR app downloads active members sign new members sign Netflix recommend watching Fear Street trilogy movies bit spooky bloody fun Amazon Prime members stream movies VR Prime Video app need do download app log profile start watching movies Alien Big Sick Jennifer Body Showtime subscribers service niche Showtime app lets experience Moonlight other award winning movies VR headset want rent recent movies watch VR YouTube app offers sizable catalog films various price points Free Guy available rent Dune costs whopping Additional YouTube rental highlights include Barb Star Go Vista Del Mar Time Die Spencer renting movie YouTube given month begin streaming hours finish film essential app watching movies VR headset Bigscreen \\u2019s virtual movie theater enter different environments stream movies other people selection rentals extensive YouTube popular movies Arrival Top Gun Titanic available physical world streaming rental friends VR have pay fee streaming services native app HBO Max Hulu Paramount have VR apps headset owners open websites browser basic workaround Firefox Reality app Oculus works videos other VR browsers Open Firefox VR visit website streaming service \\u2019re interested viewing Use member information log start watching movies method little clunky reliable streaming dedicated app issues arise troubleshoot toggling mobile mode desktop mode Firefox Bigscreen app used lot more movie rentals movies available PC streamed VR \\u2019s possible load movies Quest offline viewing plugging headset charging cable PC Put headset allow data access connected device completed Quest appear device PC tab Load entertainment like watch Movies folder Quest Restart Bigscreen headset Watch section choose Videoplayer Local Video Files access downloads Staying evening \\u2019s necessary download movies headset watch VR PC visit Bigscreen website click Download Remote Desktop downloads log same Bigscreen account PC VR headset connected desktop Bigscreen saved files easy boot stream feature work have active VPN devices connected different Wi Fi networks more information streaming movies other people watch step step video Bigscreen straps VR headset feel comfortable wear lengthy movies Trying watch Netflix Irishman Quest sitting unpleasant experience said streaming movies VR great users want watch entertainment connect friends have headsets worry people want watch movies have headset are plenty other options host virtual movie night \\u2019s fun time time see relying VR movies near future communal aspect sitting family friends couch possible has strong appeal popcorn real\"], [15708, \"Psychotherapist Nina Jane Patel Facebook Horizon Venues less minute avatar mobbed group males attackers proceeded gang rape character snapping game pictures mementos Patel froze shock trying free virtual self styled resemble real life blond hair freckles business casual attire pretend love human voices attackers jeered headset ran go rub photo metaverse defined term next generation immersive virtual reality technologies infancy crude graphics glitchy gameplay experience trigger rooted panic response fidelity such felt real Patel co - founder children metaverse company Kabuni tells Observer responded fight flight freeze mode Emerging reports depict metaverse akin lawless chat rooms dominated early internet moderated pruned digital gardens occupy today recent Channel Dispatches investigation documented metaverses rife hate speech sexual harassment paedophilia avatars simulating sex spaces accessible children Research predating metaverse hype finds experiences uncommon study virtual reality research agency Extended Mind found % males % females used VR technologies reported experienced sexual harassment Facebook changed name Meta last year signal investment space publicised decision introduce personal boundary feature metaverse products Patel experience hit headlines virtual social distance function characters trigger keep others arm length forcefield want using products have good experience find tools help situations investigate take action said Bill Stillwell product manager VR integrity Meta metaverse pitch says day interact internet virtual reality headset rendered 3D environments blur boundaries physical virtual worlds Virtual concerts fashion shows attracted flocks digital attendees brands celebrities buying plots land metaverse single sales reaching millions dollars prompting concerns metaverse real estate bubble Technology companies working ensuring day worlds feel real possible Facebook announced last November developing haptic vibrating glove help mimic feeling handling objects Spanish startup OWO created sensor packed jacket allow users feel game hugs gunshots Japanese tech company H2L working simulating pain metaverse including sensation bird pecking arm Billions dollars pouring space Meta Microsoft \\u200b\\u200bsells mixed reality HoloLens headsets working related software Apple developing augmented reality headset Video game companies such Roblox Epic Games decentralised blockchain based metaverses such Sandbox Decentraland Upland keen grab slice future CitiGroup investment bank predicts metaverse economy balloon 13tn regular internet plagued harassment hate speech illegal content early reports make clear none disappear metaverse possible do do says Lucy Sparrow PhD researcher computing information systems University Melbourne studied morality multiplayer video games People creative way use abuse technology metaverse magnify harms David J Chalmers professor philosophy neural science New York University author Reality+ Virtual Worlds Problems Philosophy According bodily harassment directed avatar experienced traumatic verbal harassment traditional social media platforms embodied version social reality makes more par physical reality says brave new world emerging ethical legal philosophical questions regulatory environment evolve deal metaverse metaverse platforms rely safety protocols predecessors new approaches warranted virtual punishments sufficient deter bad actors Stepping social media platform such Facebook metaverse means shift moderating content moderating behaviour Doing latter meaningful scale impossible admitted Facebook chief technology officer Andrew Bosworth leaked internal memo last November Bosworth memo suggested bad actors kicked metaverse blocked Facebook owned platforms used multiple virtual avatars effective approach rely accounts requiring ID set Facebook said last year exploring apply AI moderation metaverse built Automated content moderation used existing social media platforms help manage vast amounts users material suffers false positives due inability understand context failing catch content violates policies AI clever intercept real time audio streams determine accuracy offensive argues \\u200b\\u200bprofessor digital rights Bournemouth University Andy Phippen scope human moderation monitoring real time online spaces resource intensive are examples digital world crime resulted real world punishment Dutch supreme court ruled case involving theft digital amulet sword online multiplayer game Runescape players robbed knifepoint sentenced real world community service judge saying stolen objects had material value worth derived time effort spent obtaining Adjudicating digital transgressions real life courts seem scalable legal experts believe metaverse becomes important tech CEOs say see real world legal frameworks applied spaces Lecturer bio - law Brunel University London Pin Lean Lau says novel legal challenges emerge metaverse example questions avatar legal personality ownership virtual property used collateral loans need reinvent wheel are hope metaverse offer opportunity move reactive enforcement model dominates current crop online social spaces Sparrow disapproves metaverse companies current emphasis individual responsibility \\u2019s victim trigger safety response face attack asks proactive creating community environment promotes positive exchanges one wants live virtual police state \\u2019s growing sense enforcement balanced promoting prosocial behaviour suggestions put industry body XR Association comprises Google Microsoft Oculus Vive Sony Interactive Entertainment include rewarding altruism empathy celebrating positive collective behaviour Co - founder gaming research company Quantic Foundry Nick Yee highlighted example multiplayer game EverQuest players died game forced travel location deaths reclaim lost belongings Yee argues design feature helped encourage altruistic behaviour players had solicit help other players retrieving items helping foster camaraderie promote positive interactions Patel advocates looking enforcement mechanisms thinking regulate metaverse proposes examining harmful behaviour people digital environments getting curious \\u2019s making behave way top governance model present day social media platforms shaken decentralised platforms continue play role metaverse ecosystem Such models tried online forum platform Reddit example relies community moderators police discussion groups early multiplayer children game Disney owned Club Penguin pioneered gamified network secret agent informants kept watchful eye other players paper researchers working Facebook owned Oculus VR indicates company exploring community driven moderation initiatives VR applications means countering problems top governance many ways solutions tech companies come tackle metaverse harms echo inadequate strategies employed internet described sop avoid regulation new laws enacted temper social media applied metaverse Government legislation such EU rolled Digital Services Act imposes harsh penalties social media companies remove illegal content UK incubating online harms bill play role development safety standards metaverse Facebook metaverse ventures falling foul regulators safety year UK data watchdog Information Commissioner Office sought talks Facebook lack parental controls popular Oculus Quest virtual reality headset are unresolved legal questions govern virtual bodies go scope current web such rules national jurisdiction apply virtual world avatar day gain legal status necessary sued speculative nature space means questions answered near term suspect laws metaverse large going derive laws physical countries says Chalmers long term \\u2019s possible virtual worlds going become autonomous societies own right own principles\"], [11975, \"upcoming season 92nd Street Y feature \\u2019s celebrity guests including Ruth Bader Ginsburg Ron Howard literary season begins Sept. free tribute poet Mary Oliver died January feature Eve Ensler Maria Shriver Coleman Barks reading work several writers present new titles Sept. Ann Patchett read novel Dutch House pair siblings cling other stepmother banishes childhood home Jeanette Winterson Dec. discuss Frankissstein Love Story explores transhumanism artificial intelligence queer love Andr\\u00e9 Aciman Dec. read excerpts Find sequel Call Name Salman Rushdie Dec. share snippets forthcoming novel Quichotte inspired Spanish classic Don Quixote season goes literature Ken Burns discussing upcoming documentary series Country Music conversation country singer Vince Gill Sept. Mr. Howard moderating talk friend longtime business partner Brian Grazer Sept. singer songwriter Maggie Rogers having talk writer Tavi Gevinson Oct. Other highlights include chat chef Evan Funke Gwyneth Paltrow Sept. event Malcolm Gladwell Sept. pegged release new book Talking Strangers Know People Do Know full lineup found\"], [12986, \"LOS ANGELES Pinchas old Steven Spielberg asked wall screen life size video image elderly man cardigan blinked answered missing beat born make own arithmetic responded Pinchas Polish accent asked do math Mr. Spielberg laughed survive many did survive screen responded survived believe providence watched chat went minutes artificial intelligence looked reminiscent Mr. Spielberg earlier films goal entertainment education sound sensitive screen interactive biography Pinchas Gutter Polish Jew survived Holocaust story part tour director leading redesigned headquarters U.S.C. Shoah Foundation organization founded collect testimony Holocaust survivors Mr. Spielberg expanded foundation footprint University Southern California campus mission public focus fight hate says become commonplace presence hate taken granted Mr. Spielberg said doing enough counter prerecorded video conversation part series using playback technology invites visitors converse survivors genocide based specific word patterns more questions vary views God personal history month testimony Pinchas displayed United Nations 70th anniversary adoption genocide laws storytelling tool raise awareness foundation continues archive stories victims anti - Semitism advocate behalf collecting Mr. Spielberg calls living testimony modern genocide victims Holocaust stand said conviction decided send videographers Rwanda get testimony went Cambodia Armenia doing critical study Central African Republic Guatemala Nanjing massacre doing testimony anti - Rohingya violence Myanmar current anti - Semitic violence Europe expanding scope counter many forms hate square foot space opened public last month far cry organization beginnings following Schindler \\u2019s List Mr. Spielberg sent army videographers globe record Holocaust survivors stories Betamax tapes interviews stored Amblin Entertainment offices Universal Studios lot storage company foundation move U.S.C. Leavey Library are little recordings Holocaust survivors visual history archive staggering hours Today group has employees annual budget includes university received millions donations new home part office part media lab packed video testimonies countries languages survivor inspired artwork hanging steel sculpture British artist Nicola Anthony incorporates phrases filmed testimony Visitors tour offices Monday Friday a.m. p.m. thinks Shoah Foundation archiving past \\u2019s understanding empathy using testimony shine light Stephen D. Smith executive director said Reflecting founder legacy organization produced multiple films including recent documentary Girl Picture year old Xia Shuqin witnessed murder family Nanjing Massacre directed Vanessa Roth mother interviewer foundation early Last Goodbye virtual reality memorial screening Holocaust museums Florida New York Illinois California takes audiences Majdanek concentration camp German occupied Poland Pinchas Gutter guide using thousands photos D video explore railway car gas chamber barracks David Korins scenic designer musical Hamilton foundation director museum experiences goal getting collection archival footage more museums Rising anti - Semitism providing fresh impetus foundation relaunched efforts people willing forget Holocaust \\u2019re willing deny said Aaron Breitbart senior researcher Simon Wiesenthal Center human rights organization worked foundation Shoah Foundation made great contribution battle memory relaunch coincides theatrical rerelease Schindler \\u2019s List review film Times Janet Maslin wrote Rising challenge material displaying electrifying creative intelligence Mr. Spielberg made sure Holocaust thought same way film ran theaters mid - December screened free students remastered K resolution Mr. Spielberg said touch frame original version film available Netflix quarter century remains complex depiction Nazi horrors surprised attempted make film said Renee Firestone story told foundation expansion challenges remain Mr. Smith said Most testimonies unavailable online means seen foundation partner libraries universities links free families interviewed are transcripts recordings foundation spending building free online platform researchers schools general public starting late Mr. Smith said Days Mr. Spielberg 72nd birthday wearing suede jacket style boots opus Lincoln director munched granola bar foundation headquarters color beard saltier has few more inches middle gray green eyes shine discussing foundation seminal film edited excerpts conversation expand mission Shoah Foundation think \\u2019s measurable uptick anti - Semitism uptick xenophobia racial divide bigger imagine modern era People voicing hate \\u2019s many more outlets give voice reasonable unreasonable opinions demands People highest places allowing others express hatred express \\u2019s big change \\u2019s kinds efforts take truth subvert twisted ideology saw happen Europe France Poland thought come existed last years Many groups clamoring have others overcome commiserate other suffering pain compete way marginalized discriminated having racist anti - Semitic slurs hurled unites people black society Jewish community gay lesbian LGBTQ community black Jewish communities Hate hate spillover makes responsible watching others backs standing other None bystanders Hollywood combat Look many movies telling stories women \\u2019s huge shift gender centric saw happen beginning Harvey Weinstein downfall Storytelling human art listening hoping Shoah Foundation able inspire Amblin Television division Amblin Partners Mr. Spielberg production company parties settlement agreement actress CBS show Bull dropped confronted star inappropriate comments representative Amblin declined comment directing inquiries CBS sole owner show rereleasing Schindler \\u2019s List years believe make impact Tribeca Film Festival experienced first audience years watching Schindler \\u2019s List full house reaction turned Kate [ Capshaw wife said God listening renewed cycle hate initiatives Shoah Foundation thought open conversation genocide happen ordinary society goes wrong Charlottesville aftermath made huge impact wanting reissue film made film today things changed \\u2019s changed stand film stood own test time sticks years filming Poland carnage happened months filming Krakow hair back neck went hard morning get car walk set wanted use locations Schindler stayed Krakow including Jewish Ghetto shooting P\\u0142asz\\u00f3w forced labor camp shot Auschwitz building barracks backing train Auschwitz proper train exits Auschwitz appeared film entering death camp coldest nights experienced mournful silence company actors hear pin drop foundation decided include modern testimonies genocide has testimonies record anti - Semitism grandparents filmed foundation video best teacher Look \\u2019re storytellers \\u2019s one alive storyteller think day story Maya Angelou said History wrenching pain unlived faced courage lived earliest memories different grandmother taught English Hungarian Holocaust survivors Cincinnati sit table learned numbers arm Auschwitz survivor showed numbers forearm Sesame Street learned count more do plan do Teachers parents need take responsibility acceptance hatred fabric society working Discovery Channel Academy Award winning filmmaker Alex Gibney hour study called Hate planning more dramatization Holocaust putting attention documentary format\"], [5671, \"New York City February missed subway train nuisance Chances one coming few minutes February sight subway train receding distance reach platform feel existential next minutes lost time make shift workers clock desk jockeys tardy catch eye dude corner office New York Metropolitan Transportation Authority agency runs city subway system region buses commuter rail serves nation public transit riders pandemic recession record breaking drops ridership MTA leaders say agency needs additional fall MTA have cut service percent lay more workers people kept system running midst pandemic percent drop daily riders delay capital projects anticipated subway extension transit neglected part Manhattan Harlem neighborhood canceled MTA facing year fiscal tsunami MTA CEO Pat Foye told public radio program last week noting Hurricane Sandy Great Depression posed great threat transit service ride transit sound bad cities networks Effects cascade many late days work job many lengthy commutes realize \\u2019s feasible travel downtown take paying jobs public transit supposed vehicle opportunity pun intended broken system leads broken city people get lucky breaks lots others do Post - public transit New York post - public transit pretty Subpar transit service eats people time way affects happiness health amount time families says Ben Fried communications director research advocacy group TransitCenter New York unique region transit dependent country greater cross - section residents hop subway scene repeats nation places transit likely safety net afford car reasons age disability able drive San Francisco Bay Area BART system faces shortfall next summer working persuade agency retirement age workers bow avoid layoffs DC area Metro system says have enough bank keep running trains weeknights pm weekends Denver made cuts stimulus bill consideration Congress pass nation transit systems American Public Transportation Association industry lobbying group says systems need ride next fiscal year \\u2019s addition last spring CARES Act funneled transit money many officials say run function region public transit network Kate Slevin senior vice president New York Regional Plan Association Research published October NYU Rudin Center Transportation suggests MTA proposed cuts lead loss many jobs earnings region tanking area GDP includes effects agency potential layoffs jobs go unfilled agency hire suppliers contractors capital projects includes jobs disappear frustrated frequent crowded buses trains people stop traveling business districts Manhattan work including food preparation jobs office administrative support jobs Regional transit misery paper suggests multiplies Cruddy public transit incompatible living certain places New York city Northeastern counterparts dense humans built people walked had access private automobile imagine traffic jams function region public transit network says Kate Slevin senior vice president state programs advocacy New York Regional Plan Association nonprofit 's enough space roads Public transit funding great place long time crunch pandemic came modern low point nation systems Ridership inched most places phenomenon UCLA researchers studying California traced concurrent uptick private car sales ride hail rides take longer ride access fewer jobs access car bummer environmentalists want get people emission spewing cars means agencies paying increasing subsidies trip Transit system funding mechanisms sui generis pandemic taken razor lots Sales taxes many places sales Fares lot people riding bus days federal government needs answer call said Robert Powers general manager BART online press conference Wednesday hosted city transit officials pleaded more federal help Public transit vital recovery many places affluent workers consider return central business districts office jobs study published December looked public transit systems role seasonal flu spread suggested fears transit vector spread overblown meantime transit continue carry essential workers work grocery retail health care explains Brian Taylor director Institute Transportation Studies UCLA transit serves sets people going busy downtown areas have other transportation options says social service aspect public transit prominent NYU study notes burden MTA cuts fall people need system low income New Yorkers parents small children have harder time transporting students Make harder people live make harder homegrown talent thrive survive Drive good people good stuff stagnates know whole thing \\u2019s network\"]];\n",
              "\n",
              "    // Define the dt_args\n",
              "    let dt_args = {\"warn_on_unexpected_types\": true, \"paging\": false, \"order\": []};\n",
              "    dt_args[\"data\"] = data;\n",
              "\n",
              "    $(document).ready(function () {\n",
              "        \n",
              "        $('#73438444-ff48-4d3f-8d4d-02b0f81019cc').DataTable(dt_args);\n",
              "    });\n",
              "</script>\n",
              "</div>\n"
            ],
            "text/plain": [
              "7780     bots console resellers snatching many people c...\n",
              "15708    Psychotherapist Nina Jane Patel Facebook Horiz...\n",
              "11975    upcoming season 92nd Street Y feature ’s celeb...\n",
              "12986    LOS ANGELES Pinchas old Steven Spielberg asked...\n",
              "5671     New York City February missed subway train nui...\n",
              "Name: features, dtype: object"
            ]
          },
          "execution_count": 27,
          "metadata": {},
          "output_type": "execute_result"
        }
      ],
      "source": [
        "df['features'].head(5)"
      ]
    },
    {
      "cell_type": "markdown",
      "metadata": {
        "id": "eR_vuoHKHZko"
      },
      "source": [
        "In the table below you can find examples of POS tags"
      ]
    },
    {
      "cell_type": "markdown",
      "metadata": {
        "id": "nWYFjnUiHDib"
      },
      "source": [
        "![image.png](data:image/png;base64,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)"
      ]
    },
    {
      "cell_type": "markdown",
      "metadata": {
        "id": "NffZTQwkWSiP"
      },
      "source": [
        "##### A.4) Clean up the texts (lowercase, remove symbols, numbers, stopwords etc.)"
      ]
    },
    {
      "cell_type": "code",
      "execution_count": null,
      "metadata": {
        "id": "WIgk_YEPyXr_"
      },
      "outputs": [],
      "source": [
        "import nltk\n",
        "nltk.download('wordnet')\n",
        "nltk.download('omw-1.4')\n",
        "\n",
        "def clean_text(x):\n",
        "    x = x.lower()\n",
        "    re.sub(r'http\\S+', '',x) #remove URLs\n",
        "    x = x.translate(str.maketrans('', '', string.punctuation)) #most punctuations have been removed in step A.3\n",
        "    # tokenize\n",
        "    x = nltk.word_tokenize(x) \n",
        "    x = [token for token in x if token not in stop_words]\n",
        "    # lemmatization and pass string back\n",
        "    x = ' '.join([lemmatizer.lemmatize(w) for w in x])\n",
        "    return x\n",
        "\n",
        "stop_words = stopwords.words('english')\n",
        "new_sw = ['ai', 'artificial intelligence']\n",
        "stop_words.extend(new_sw)\n",
        "\n",
        "\n"
      ]
    },
    {
      "cell_type": "code",
      "execution_count": null,
      "metadata": {
        "id": "sy9R1ySAP5wJ"
      },
      "outputs": [],
      "source": [
        "df['features'] = df['features'].apply(lambda x: clean_text(x))\n"
      ]
    },
    {
      "cell_type": "markdown",
      "metadata": {
        "id": "vMy4ERemWSiS"
      },
      "source": [
        "##### A.5) Vectorize and calculate TF-IDF!"
      ]
    },
    {
      "cell_type": "code",
      "execution_count": null,
      "metadata": {
        "id": "OEyeMbdqWSiS"
      },
      "outputs": [],
      "source": [
        "#Vectorization tf_idf\n",
        "vectorizer = TfidfVectorizer(min_df=20, max_df=0.4) #min_df max_df can be float or int\n",
        "X = vectorizer.fit_transform(df['features'])\n",
        "tf_idf = pd.DataFrame(data = X.toarray(), columns=vectorizer.get_feature_names())"
      ]
    },
    {
      "cell_type": "markdown",
      "metadata": {
        "id": "420Oa7QCWSiU"
      },
      "source": [
        "##### A.6) Calculate KMeans and create a line plot. Find the optimal number of clusters and add column to the dataframe that indicates what clsuter an article belongs to."
      ]
    },
    {
      "cell_type": "code",
      "execution_count": null,
      "metadata": {
        "id": "rDnddAeZYTBM"
      },
      "outputs": [],
      "source": [
        "\n",
        "!pip install kneed #not available colab \n",
        "from kneed import KneeLocator"
      ]
    },
    {
      "cell_type": "code",
      "execution_count": null,
      "metadata": {
        "colab": {
          "base_uri": "https://localhost:8080/"
        },
        "id": "6MLX-nuVWSiU",
        "outputId": "d612f49f-fff3-4fa4-faca-7cf1a31c278b"
      },
      "outputs": [
        {
          "name": "stdout",
          "output_type": "stream",
          "text": [
            "8\n"
          ]
        }
      ],
      "source": [
        "inertia = []\n",
        "\n",
        "K = range(1, 20)\n",
        "for k in K:\n",
        "    kmeanModel = KMeans(n_clusters=k,random_state=0)\n",
        "    kmeanModel.fit(tf_idf)\n",
        "    inertia.append(kmeanModel.inertia_)\n",
        "\n",
        "\n",
        "kn = KneeLocator(K, inertia, curve='convex', direction='decreasing')\n",
        "print(kn.knee)\n",
        "\n"
      ]
    },
    {
      "cell_type": "code",
      "execution_count": null,
      "metadata": {
        "colab": {
          "base_uri": "https://localhost:8080/",
          "height": 351
        },
        "id": "cyb6DzDsaxiP",
        "outputId": "04bce381-c1dd-46c9-9440-14a50f78677f"
      },
      "outputs": [
        {
          "data": {
            "text/plain": [
              "<matplotlib.collections.LineCollection at 0x7f2164fcfa10>"
            ]
          },
          "execution_count": 59,
          "metadata": {},
          "output_type": "execute_result"
        },
        {
          "data": {
            "image/png": "[encoded data removed]",
            "text/plain": [
              "<Figure size 720x360 with 1 Axes>"
            ]
          },
          "metadata": {},
          "output_type": "display_data"
        }
      ],
      "source": [
        "import matplotlib.pyplot as plt\n",
        "plt.figure(figsize=(10,5))\n",
        "\n",
        "plt.xlabel('number of clusters k')\n",
        "plt.ylabel('Sum of squared distances')\n",
        "plt.xticks( range(1, 20))\n",
        "plt.plot(K, inertia, 'bx-')\n",
        "plt.vlines(kn.knee, plt.ylim()[0], plt.ylim()[1], linestyles='dashed')"
      ]
    },
    {
      "cell_type": "code",
      "execution_count": null,
      "metadata": {
        "id": "61HOZ6TpWSiV"
      },
      "outputs": [],
      "source": [
        "#Enter recommended number of clusters and add k_means as a new column in the dataframe\n",
        "clusters = 8\n",
        "kmeanModel = KMeans(n_clusters=clusters, init='k-means++', max_iter=3000, random_state=0)\n",
        "mod = kmeanModel.fit_transform(tf_idf)\n",
        "df['k_means'] = kmeanModel.predict(tf_idf)"
      ]
    },
    {
      "cell_type": "markdown",
      "metadata": {
        "id": "cvgRn2TiWSiW"
      },
      "source": [
        "##### A.7) Check the top words (e.g., 10 or 15) per cluster. Try labelling the clusters as topics or media frames."
      ]
    },
    {
      "cell_type": "code",
      "execution_count": null,
      "metadata": {
        "colab": {
          "base_uri": "https://localhost:8080/"
        },
        "id": "2uPUo2vGWSiX",
        "outputId": "91856235-7e4e-4dd3-8224-51c1b475231e"
      },
      "outputs": [
        {
          "name": "stdout",
          "output_type": "stream",
          "text": [
            "0,robot,car,machine,job,vehicle,autonomous,driving,computer,worker,student,driver,self,software,university,learning,\n",
            "1,nan,found,computer,amazon,account,government,american,site,next,place,book,group,robot,service,power,\n",
            "2,game,player,play,character,alphago,match,playing,console,gaming,video,played,team,tournament,deepmind,xbox,\n",
            "3,mr,china,trump,chinese,president,government,state,american,nyt,administration,country,business,trade,united,official,\n",
            "4,content,found,originates,viewed,site,happened,trump,takeaway,war,palmer,theater,president,trailer,sorry,movie,\n",
            "5,show,film,story,book,movie,science,space,scientist,change,researcher,art,machine,brain,woman,health,\n",
            "6,google,apple,device,amazon,phone,microsoft,search,assistant,app,feature,cloud,chip,iphone,service,user,\n",
            "7,facebook,user,platform,twitter,video,content,zuckerberg,group,social,medium,security,law,account,news,government,\n"
          ]
        },
        {
          "name": "stderr",
          "output_type": "stream",
          "text": [
            "/usr/local/lib/python3.7/dist-packages/sklearn/utils/deprecation.py:87: FutureWarning: Function get_feature_names is deprecated; get_feature_names is deprecated in 1.0 and will be removed in 1.2. Please use get_feature_names_out instead.\n",
            "  warnings.warn(msg, category=FutureWarning)\n"
          ]
        }
      ],
      "source": [
        "#Top words per cluster (15, adjust as needed)\n",
        "order_centroids = kmeanModel.cluster_centers_.argsort()[:, ::-1]\n",
        "terms = vectorizer.get_feature_names()\n",
        "dict = []\n",
        "for i in range(clusters):\n",
        "    print(\"%d\" % i, sep='', end=','),\n",
        "    for ind in order_centroids[i, :15]:\n",
        "        print(terms[ind], sep='', end=',')\n",
        "    print('')"
      ]
    },
    {
      "cell_type": "markdown",
      "metadata": {
        "id": "lI58-0P7WSiX"
      },
      "source": [
        "##### A.8) Check the cluster sizes!"
      ]
    },
    {
      "cell_type": "code",
      "execution_count": null,
      "metadata": {
        "colab": {
          "base_uri": "https://localhost:8080/",
          "height": 385
        },
        "id": "hZJG59cmWSiX",
        "outputId": "1de4ebea-13e7-421e-8589-c28b2cc84d07"
      },
      "outputs": [
        {
          "data": {
            "text/html": [
              "\n",
              "  <div id=\"df-b5656754-8bc1-4d43-b132-f568ec144d39\">\n",
              "    <div class=\"colab-df-container\">\n",
              "      <style>.itables table td {\n",
              "    text-overflow: ellipsis;\n",
              "    overflow: hidden;\n",
              "}\n",
              "\n",
              ".itables table th {\n",
              "    text-overflow: ellipsis;\n",
              "    overflow: hidden;\n",
              "}\n",
              "\n",
              ".itables thead input {\n",
              "    width: 100%;\n",
              "    padding: 3px;\n",
              "    box-sizing: border-box;\n",
              "}\n",
              "\n",
              ".itables tfoot input {\n",
              "    width: 100%;\n",
              "    padding: 3px;\n",
              "    box-sizing: border-box;\n",
              "}\n",
              "</style>\n",
              "<div class=\"itables\">\n",
              "<table id=\"ee15b31a-1d36-4503-b977-95a4a9903d7f\" class=\"display\"style=\"width:auto;\"><thead>\n",
              "    <tr style=\"text-align: right;\">\n",
              "      \n",
              "      <th>k_means</th>\n",
              "      <th>title</th>\n",
              "    </tr>\n",
              "  </thead><tbody><tr><td>Loading... (need <a href=https://mwouts.github.io/itables/troubleshooting.html>help</a>?)</td></tr></tbody></table>\n",
              "<link rel=\"stylesheet\" type=\"text/css\" href=\"https://cdn.datatables.net/1.12.1/css/jquery.dataTables.min.css\">\n",
              "<script type=\"module\">\n",
              "    // Import jquery and DataTable\n",
              "    import 'https://code.jquery.com/jquery-3.6.0.min.js';\n",
              "    import dt from 'https://cdn.datatables.net/1.12.1/js/jquery.dataTables.mjs';\n",
              "    dt($);\n",
              "\n",
              "    // Define the table data\n",
              "    const data = [[0, 259], [1, 39], [2, 115], [3, 222], [4, 25], [5, 858], [6, 239], [7, 243]];\n",
              "\n",
              "    // Define the dt_args\n",
              "    let dt_args = {\"warn_on_unexpected_types\": true, \"paging\": false, \"order\": []};\n",
              "    dt_args[\"data\"] = data;\n",
              "\n",
              "    $(document).ready(function () {\n",
              "        \n",
              "        $('#ee15b31a-1d36-4503-b977-95a4a9903d7f').DataTable(dt_args);\n",
              "    });\n",
              "</script>\n",
              "</div>\n",
              "\n",
              "      <button class=\"colab-df-convert\" onclick=\"convertToInteractive('df-b5656754-8bc1-4d43-b132-f568ec144d39')\"\n",
              "              title=\"Convert this dataframe to an interactive table.\"\n",
              "              style=\"display:none;\">\n",
              "        \n",
              "  <svg xmlns=\"http://www.w3.org/2000/svg\" height=\"24px\"viewBox=\"0 0 24 24\"\n",
              "       width=\"24px\">\n",
              "    <path d=\"M0 0h24v24H0V0z\" fill=\"none\"/>\n",
              "    <path d=\"M18.56 5.44l.94 2.06.94-2.06 2.06-.94-2.06-.94-.94-2.06-.94 2.06-2.06.94zm-11 1L8.5 8.5l.94-2.06 2.06-.94-2.06-.94L8.5 2.5l-.94 2.06-2.06.94zm10 10l.94 2.06.94-2.06 2.06-.94-2.06-.94-.94-2.06-.94 2.06-2.06.94z\"/><path d=\"M17.41 7.96l-1.37-1.37c-.4-.4-.92-.59-1.43-.59-.52 0-1.04.2-1.43.59L10.3 9.45l-7.72 7.72c-.78.78-.78 2.05 0 2.83L4 21.41c.39.39.9.59 1.41.59.51 0 1.02-.2 1.41-.59l7.78-7.78 2.81-2.81c.8-.78.8-2.07 0-2.86zM5.41 20L4 18.59l7.72-7.72 1.47 1.35L5.41 20z\"/>\n",
              "  </svg>\n",
              "      </button>\n",
              "      \n",
              "  <style>\n",
              "    .colab-df-container {\n",
              "      display:flex;\n",
              "      flex-wrap:wrap;\n",
              "      gap: 12px;\n",
              "    }\n",
              "\n",
              "    .colab-df-convert {\n",
              "      background-color: #E8F0FE;\n",
              "      border: none;\n",
              "      border-radius: 50%;\n",
              "      cursor: pointer;\n",
              "      display: none;\n",
              "      fill: #1967D2;\n",
              "      height: 32px;\n",
              "      padding: 0 0 0 0;\n",
              "      width: 32px;\n",
              "    }\n",
              "\n",
              "    .colab-df-convert:hover {\n",
              "      background-color: #E2EBFA;\n",
              "      box-shadow: 0px 1px 2px rgba(60, 64, 67, 0.3), 0px 1px 3px 1px rgba(60, 64, 67, 0.15);\n",
              "      fill: #174EA6;\n",
              "    }\n",
              "\n",
              "    [theme=dark] .colab-df-convert {\n",
              "      background-color: #3B4455;\n",
              "      fill: #D2E3FC;\n",
              "    }\n",
              "\n",
              "    [theme=dark] .colab-df-convert:hover {\n",
              "      background-color: #434B5C;\n",
              "      box-shadow: 0px 1px 3px 1px rgba(0, 0, 0, 0.15);\n",
              "      filter: drop-shadow(0px 1px 2px rgba(0, 0, 0, 0.3));\n",
              "      fill: #FFFFFF;\n",
              "    }\n",
              "  </style>\n",
              "\n",
              "      <script>\n",
              "        const buttonEl =\n",
              "          document.querySelector('#df-b5656754-8bc1-4d43-b132-f568ec144d39 button.colab-df-convert');\n",
              "        buttonEl.style.display =\n",
              "          google.colab.kernel.accessAllowed ? 'block' : 'none';\n",
              "\n",
              "        async function convertToInteractive(key) {\n",
              "          const element = document.querySelector('#df-b5656754-8bc1-4d43-b132-f568ec144d39');\n",
              "          const dataTable =\n",
              "            await google.colab.kernel.invokeFunction('convertToInteractive',\n",
              "                                                     [key], {});\n",
              "          if (!dataTable) return;\n",
              "\n",
              "          const docLinkHtml = 'Like what you see? Visit the ' +\n",
              "            '<a target=\"_blank\" href=https://colab.research.google.com/notebooks/data_table.ipynb>data table notebook</a>'\n",
              "            + ' to learn more about interactive tables.';\n",
              "          element.innerHTML = '';\n",
              "          dataTable['output_type'] = 'display_data';\n",
              "          await google.colab.output.renderOutput(dataTable, element);\n",
              "          const docLink = document.createElement('div');\n",
              "          docLink.innerHTML = docLinkHtml;\n",
              "          element.appendChild(docLink);\n",
              "        }\n",
              "      </script>\n",
              "    </div>\n",
              "  </div>\n",
              "  "
            ],
            "text/plain": [
              "   k_means  title\n",
              "0        0    259\n",
              "1        1     39\n",
              "2        2    115\n",
              "3        3    222\n",
              "4        4     25\n",
              "5        5    858\n",
              "6        6    239\n",
              "7        7    243"
            ]
          },
          "execution_count": 62,
          "metadata": {},
          "output_type": "execute_result"
        }
      ],
      "source": [
        "#cluster sizes\n",
        "df.groupby('k_means').count().reset_index()[['k_means', 'title']]"
      ]
    },
    {
      "cell_type": "markdown",
      "metadata": {
        "id": "zSHf0VYjWSiY"
      },
      "source": [
        "##### A.9) So far, we've included all articles in our analayis. But what if we want to be stricter in our selection? Find articles that mention the search terms 'A.I./artificial intelligence' at least twice! Create a new dataframe with your selection and repeat the analyses from A.5) to A.8)."
      ]
    },
    {
      "cell_type": "code",
      "execution_count": null,
      "metadata": {
        "colab": {
          "base_uri": "https://localhost:8080/"
        },
        "id": "jJvRa5zvWSiY",
        "outputId": "e6188db3-31c0-413f-9d0e-416ffb4a251d"
      },
      "outputs": [
        {
          "data": {
            "text/plain": [
              "(394, 16)"
            ]
          },
          "execution_count": 63,
          "metadata": {},
          "output_type": "execute_result"
        }
      ],
      "source": [
        "#Function to count occurrences and create new columns with counts\n",
        "def count_occurences(x):\n",
        "    pattern = '(a\\.i|artificial intelligence|\\bai\\b)'\n",
        "    return len(re.findall(pattern, x))\n",
        "\n",
        "df['title_count'] = df['title'].str.lower().apply(lambda x: count_occurences(x))\n",
        "df['description_count'] = df['description'].str.lower().apply(lambda x: count_occurences(x))\n",
        "df['body_count'] = df['body'].str.lower().apply(lambda x: count_occurences(x))\n",
        "\n",
        "\n",
        "#Create a new dataframe and then just repeat the previous analysis.\n",
        "selection = df[((df['body_count'] > 1) | (df['description_count'] >= 1) | (df['title_count'] >= 1))].copy()\n",
        "selection = selection.reset_index()\n",
        "selection.shape"
      ]
    },
    {
      "cell_type": "markdown",
      "metadata": {
        "id": "rT4HLAwlWSiZ"
      },
      "source": [
        "##### A.10) Reflect on the TF-IDF approach. What are the benefits, what are the limitations? How can you ensure validity and reliability of the results?"
      ]
    },
    {
      "cell_type": "code",
      "execution_count": null,
      "metadata": {
        "id": "rqlSVYLCWSiZ"
      },
      "outputs": [],
      "source": [
        "#answer"
      ]
    },
    {
      "cell_type": "markdown",
      "metadata": {
        "id": "P0PKmyykWSiZ"
      },
      "source": [
        "##### B.1) Use LDA topic modeling on the news data set. Try it first with all articles and then red-do the process with your stricter selection."
      ]
    },
    {
      "cell_type": "code",
      "execution_count": null,
      "metadata": {
        "colab": {
          "background_save": true
        },
        "id": "NvcrZtr0WSia"
      },
      "outputs": [],
      "source": [
        "#There are many different ways to do topic modeling, so the below is just one possible approach!\n",
        "#The main goal is that students 1) pre-process; 2) choose a justified number of topic; 3) get interpretable results.\n",
        "\n",
        "#Use the pre-processed text from the dataframes - first try with the full dataset, then the selection\n",
        "articles = df['features'].copy()\n",
        "#articles = selection['features'].copy()\n",
        "articles = articles.reset_index()"
      ]
    },
    {
      "cell_type": "markdown",
      "metadata": {
        "id": "IaZEQ3RBWSia"
      },
      "source": [
        "##### B.2) Tokenize the texts."
      ]
    },
    {
      "cell_type": "code",
      "execution_count": null,
      "metadata": {
        "colab": {
          "base_uri": "https://localhost:8080/",
          "height": 542
        },
        "id": "P8XvNKEyWSia",
        "outputId": "610f5c3e-3cb1-48e2-9999-4389ed1bf180"
      },
      "outputs": [
        {
          "data": {
            "text/html": [
              "<style>.itables table td {\n",
              "    text-overflow: ellipsis;\n",
              "    overflow: hidden;\n",
              "}\n",
              "\n",
              ".itables table th {\n",
              "    text-overflow: ellipsis;\n",
              "    overflow: hidden;\n",
              "}\n",
              "\n",
              ".itables thead input {\n",
              "    width: 100%;\n",
              "    padding: 3px;\n",
              "    box-sizing: border-box;\n",
              "}\n",
              "\n",
              ".itables tfoot input {\n",
              "    width: 100%;\n",
              "    padding: 3px;\n",
              "    box-sizing: border-box;\n",
              "}\n",
              "</style>\n",
              "<div class=\"itables\">\n",
              "<table id=\"61632c22-8e5b-498f-9cdb-aa06b969cb19\" class=\"display\"style=\"width:auto;\"><thead>\n",
              "    <tr style=\"text-align: right;\">\n",
              "      \n",
              "      <th>features</th>\n",
              "    </tr>\n",
              "  </thead><tbody><tr><td>Loading... (need <a href=https://mwouts.github.io/itables/troubleshooting.html>help</a>?)</td></tr></tbody></table>\n",
              "<link rel=\"stylesheet\" type=\"text/css\" href=\"https://cdn.datatables.net/1.12.1/css/jquery.dataTables.min.css\">\n",
              "<script type=\"module\">\n",
              "    // Import jquery and DataTable\n",
              "    import 'https://code.jquery.com/jquery-3.6.0.min.js';\n",
              "    import dt from 'https://cdn.datatables.net/1.12.1/js/jquery.dataTables.mjs';\n",
              "    dt($);\n",
              "\n",
              "    // Define the table data\n",
              "    const data = [[\"[bots, console, resellers, snatching, many, people, chance, purchase, PlayStation, new, OLED, Switch, virtual, reality, headsets, popular, gift, holiday, season, Meta, Oculus, Quest, particular, experienced, surge, corresponding, app, downloads, heading, new, year, finished, slashing, Beat, Saber, Lady, Gaga, music, pack, need, break, Horizon, Workroom, VR, headset, owners, take, time, kick, stream, movie, Supernatural, workout, roll, tomorrow, earned, few, experiences, watching, movie, VR, headset, mean, immersed, action, streaming, VR, avatar, placed, virtual, room, cinema, 2D, viewing, screen, Streaming, services, Netflix, Prime, Video, have, native, apps, Quest, easy, download, Video, demand, rentals, YouTube, Bigscreen, require, couple, more, steps, process, straightforward, Other, movies, accessed, ...]\"], [\"[Psychotherapist, Nina, Jane, Patel, Facebook, Horizon, Venues, less, minute, avatar, mobbed, group, males, attackers, proceeded, gang, rape, character, snapping, game, pictures, mementos, Patel, froze, shock, trying, free, virtual, self, styled, resemble, real, life, blond, hair, freckles, business, casual, attire, pretend, love, human, voices, attackers, jeered, headset, ran, go, rub, photo, metaverse, defined, term, next, generation, immersive, virtual, reality, technologies, infancy, crude, graphics, glitchy, gameplay, experience, trigger, rooted, panic, response, fidelity, such, felt, real, Patel, co, -, founder, children, metaverse, company, Kabuni, tells, Observer, responded, fight, flight, freeze, mode, Emerging, reports, depict, metaverse, akin, lawless, chat, rooms, dominated, early, internet, moderated, ...]\"], [\"[upcoming, season, 92nd, Street, Y, feature, \\u2019, s, celebrity, guests, including, Ruth, Bader, Ginsburg, Ron, Howard, literary, season, begins, Sept., free, tribute, poet, Mary, Oliver, died, January, feature, Eve, Ensler, Maria, Shriver, Coleman, Barks, reading, work, several, writers, present, new, titles, Sept., Ann, Patchett, read, novel, Dutch, House, pair, siblings, cling, other, stepmother, banishes, childhood, home, Jeanette, Winterson, Dec., discuss, Frankissstein, Love, Story, explores, transhumanism, artificial, intelligence, queer, love, Andr\\u00e9, Aciman, Dec., read, excerpts, Find, sequel, Call, Name, Salman, Rushdie, Dec., share, snippets, forthcoming, novel, Quichotte, inspired, Spanish, classic, Don, Quixote, season, goes, literature, Ken, Burns, discussing, upcoming, documentary, series, ...]\"], [\"[LOS, ANGELES, Pinchas, old, Steven, Spielberg, asked, wall, screen, life, size, video, image, elderly, man, cardigan, blinked, answered, missing, beat, born, make, own, arithmetic, responded, Pinchas, Polish, accent, asked, do, math, Mr., Spielberg, laughed, survive, many, did, survive, screen, responded, survived, believe, providence, watched, chat, went, minutes, artificial, intelligence, looked, reminiscent, Mr., Spielberg, earlier, films, goal, entertainment, education, sound, sensitive, screen, interactive, biography, Pinchas, Gutter, Polish, Jew, survived, Holocaust, story, part, tour, director, leading, redesigned, headquarters, U.S.C, ., Shoah, Foundation, organization, founded, collect, testimony, Holocaust, survivors, Mr., Spielberg, expanded, foundation, footprint, University, Southern, California, campus, mission, public, focus, fight, hate, ...]\"], [\"[New, York, City, February, missed, subway, train, nuisance, Chances, one, coming, few, minutes, February, sight, subway, train, receding, distance, reach, platform, feel, existential, next, minutes, lost, time, make, shift, workers, clock, desk, jockeys, tardy, catch, eye, dude, corner, office, New, York, Metropolitan, Transportation, Authority, agency, runs, city, subway, system, region, buses, commuter, rail, serves, nation, public, transit, riders, pandemic, recession, record, breaking, drops, ridership, MTA, leaders, say, agency, needs, additional, fall, MTA, have, cut, service, percent, lay, more, workers, people, kept, system, running, midst, pandemic, percent, drop, daily, riders, delay, capital, projects, anticipated, subway, extension, transit, neglected, part, Manhattan, Harlem, ...]\"]];\n",
              "\n",
              "    // Define the dt_args\n",
              "    let dt_args = {\"warn_on_unexpected_types\": true, \"paging\": false, \"order\": []};\n",
              "    dt_args[\"data\"] = data;\n",
              "\n",
              "    $(document).ready(function () {\n",
              "        \n",
              "        $('#61632c22-8e5b-498f-9cdb-aa06b969cb19').DataTable(dt_args);\n",
              "    });\n",
              "</script>\n",
              "</div>\n"
            ],
            "text/plain": [
              "0    [bots, console, resellers, snatching, many, pe...\n",
              "1    [Psychotherapist, Nina, Jane, Patel, Facebook,...\n",
              "2    [upcoming, season, 92nd, Street, Y, feature, ’...\n",
              "3    [LOS, ANGELES, Pinchas, old, Steven, Spielberg...\n",
              "4    [New, York, City, February, missed, subway, tr...\n",
              "Name: features, dtype: object"
            ]
          },
          "execution_count": 66,
          "metadata": {},
          "output_type": "execute_result"
        }
      ],
      "source": [
        "#Tokenize the texts - there are different methods that students learned about. This one uses NLTK.\n",
        "articles['features'] =  articles['features'].apply(word_tokenize)\n",
        "articles['features'].head()"
      ]
    },
    {
      "cell_type": "code",
      "execution_count": null,
      "metadata": {
        "id": "T29yXX9nWSib"
      },
      "outputs": [],
      "source": [
        "#Function to remove words - sometimes when exploring the results, some words make the results less informative. \n",
        "#These can be filtered out with this function.\n",
        "def remove_sw(x):\n",
        "    # remove stopwords\n",
        "    x = [token for token in x if not token in stop_words]\n",
        "    return x\n",
        "\n",
        "stop_words = stopwords.words('english')\n",
        "\n",
        "#I noticed some words that messed with the results, so I removed them via stopwords. Students need to figure this out themselves!\n",
        "new_sw = ['ai', 'artificial intelligence', 'mr', 'fb', 'technology']\n",
        "stop_words.extend(new_sw)\n"
      ]
    },
    {
      "cell_type": "code",
      "execution_count": null,
      "metadata": {
        "id": "XIrNaE5dWSib"
      },
      "outputs": [],
      "source": [
        "articles['features'] = articles['features'].apply(lambda x: remove_sw(x))"
      ]
    },
    {
      "cell_type": "code",
      "execution_count": null,
      "metadata": {
        "colab": {
          "base_uri": "https://localhost:8080/",
          "height": 641
        },
        "id": "OsFcal8rWSic",
        "outputId": "890248c4-a675-41db-cc72-6ede967f04a8"
      },
      "outputs": [
        {
          "name": "stderr",
          "output_type": "stream",
          "text": [
            "/usr/local/lib/python3.7/dist-packages/gensim/models/phrases.py:598: UserWarning: For a faster implementation, use the gensim.models.phrases.Phraser class\n",
            "  warnings.warn(\"For a faster implementation, use the gensim.models.phrases.Phraser class\")\n"
          ]
        },
        {
          "data": {
            "text/html": [
              "\n",
              "  <div id=\"df-188fa3ae-7b42-4ca7-8a1e-59f14b9518c3\">\n",
              "    <div class=\"colab-df-container\">\n",
              "      <style>.itables table td {\n",
              "    text-overflow: ellipsis;\n",
              "    overflow: hidden;\n",
              "}\n",
              "\n",
              ".itables table th {\n",
              "    text-overflow: ellipsis;\n",
              "    overflow: hidden;\n",
              "}\n",
              "\n",
              ".itables thead input {\n",
              "    width: 100%;\n",
              "    padding: 3px;\n",
              "    box-sizing: border-box;\n",
              "}\n",
              "\n",
              ".itables tfoot input {\n",
              "    width: 100%;\n",
              "    padding: 3px;\n",
              "    box-sizing: border-box;\n",
              "}\n",
              "</style>\n",
              "<div class=\"itables\">\n",
              "<table id=\"39a887d2-868c-442b-a3ec-ff0e5fd2d64c\" class=\"display\"style=\"width:auto;\"><thead>\n",
              "    <tr style=\"text-align: right;\">\n",
              "      \n",
              "      <th>index</th>\n",
              "      <th>features</th>\n",
              "    </tr>\n",
              "  </thead><tbody><tr><td>Loading... (need <a href=https://mwouts.github.io/itables/troubleshooting.html>help</a>?)</td></tr></tbody></table>\n",
              "<link rel=\"stylesheet\" type=\"text/css\" href=\"https://cdn.datatables.net/1.12.1/css/jquery.dataTables.min.css\">\n",
              "<script type=\"module\">\n",
              "    // Import jquery and DataTable\n",
              "    import 'https://code.jquery.com/jquery-3.6.0.min.js';\n",
              "    import dt from 'https://cdn.datatables.net/1.12.1/js/jquery.dataTables.mjs';\n",
              "    dt($);\n",
              "\n",
              "    // Define the table data\n",
              "    const data = [[7780, \"[bots, console, resellers, snatching, many, people, chance, purchase, PlayStation, new, OLED, Switch, virtual, reality, headsets, popular, gift, holiday, season, Meta, Oculus, Quest, particular, experienced, surge, corresponding, app, downloads, heading, new, year, finished, slashing, Beat, Saber, Lady, Gaga, music, pack, need, break, Horizon, Workroom, VR, headset, owners, take, time, kick, stream, movie, Supernatural, workout, roll, tomorrow, earned, experiences, watching, movie, VR, headset, mean, immersed, action, streaming, VR, avatar, placed, virtual, room, cinema, 2D, viewing, screen, Streaming, services, Netflix, Prime, Video, native, apps, Quest, easy, download, Video, demand, rentals, YouTube, Bigscreen, require, couple, steps, process, straightforward, Other, movies, accessed, VR, browsers, downloaded, ...]\"], [15708, \"[Psychotherapist, Nina, Jane, Patel, Facebook, Horizon, Venues, less, minute, avatar, mobbed, group, males, attackers, proceeded, gang, rape, character, snapping, game, pictures, mementos, Patel, froze, shock, trying, free, virtual, self, styled, resemble, real, life, blond, hair, freckles, business, casual, attire, pretend, love, human, voices, attackers, jeered, headset, ran, go, rub, photo, metaverse, defined, term, next, generation, immersive, virtual, reality, technologies, infancy, crude, graphics, glitchy, gameplay, experience, trigger, rooted, panic, response, fidelity, felt, real, Patel, co, -, founder, children, metaverse, company, Kabuni, tells, Observer, responded, fight, flight, freeze, mode, Emerging, reports, depict, metaverse, akin, lawless, chat, rooms, dominated, early, internet, moderated, pruned, ...]\"], [11975, \"[upcoming, season, 92nd, Street, Y, feature, \\u2019, celebrity, guests, including, Ruth, Bader, Ginsburg, Ron, Howard, literary, season, begins, Sept., free, tribute, poet, Mary, Oliver, died, January, feature, Eve, Ensler, Maria, Shriver, Coleman, Barks, reading, work, several, writers, present, new, titles, Sept., Ann, Patchett, read, novel, Dutch, House, pair, siblings, cling, stepmother, banishes, childhood, home, Jeanette, Winterson, Dec., discuss, Frankissstein, Love, Story, explores, transhumanism, artificial, intelligence, queer, love, Andr\\u00e9, Aciman, Dec., read, excerpts, Find, sequel, Call, Name, Salman, Rushdie, Dec., share, snippets, forthcoming, novel, Quichotte, inspired, Spanish, classic, Don, Quixote, season, goes, literature, Ken, Burns, discussing, upcoming, documentary, series, Country, Music, ...]\"], [12986, \"[LOS, ANGELES, Pinchas, old, Steven, Spielberg, asked, wall, screen, life, size, video, image, elderly, man, cardigan, blinked, answered, missing, beat, born, make, arithmetic, responded, Pinchas, Polish, accent, asked, math, Mr., Spielberg, laughed, survive, many, survive, screen, responded, survived, believe, providence, watched, chat, went, minutes, artificial, intelligence, looked, reminiscent, Mr., Spielberg, earlier, films, goal, entertainment, education, sound, sensitive, screen, interactive, biography, Pinchas, Gutter, Polish, Jew, survived, Holocaust, story, part, tour, director, leading, redesigned, headquarters, U.S.C, ., Shoah, Foundation, organization, founded, collect, testimony, Holocaust, survivors, Mr., Spielberg, expanded, foundation, footprint, University, Southern, California, campus, mission, public, focus, fight, hate, says, become, commonplace, ...]\"], [5671, \"[New, York, City, February, missed, subway, train, nuisance, Chances, one, coming, minutes, February, sight, subway, train, receding, distance, reach, platform, feel, existential, next, minutes, lost, time, make, shift, workers, clock, desk, jockeys, tardy, catch, eye, dude, corner, office, New, York, Metropolitan, Transportation, Authority, agency, runs, city, subway, system, region, buses, commuter, rail, serves, nation, public, transit, riders, pandemic, recession, record, breaking, drops, ridership, MTA, leaders, say, agency, needs, additional, fall, MTA, cut, service, percent, lay, workers, people, kept, system, running, midst, pandemic, percent, drop, daily, riders, delay, capital, projects, anticipated, subway, extension, transit, neglected, part, Manhattan, Harlem, neighborhood, canceled, MTA, ...]\"]];\n",
              "\n",
              "    // Define the dt_args\n",
              "    let dt_args = {\"warn_on_unexpected_types\": true, \"paging\": false, \"order\": []};\n",
              "    dt_args[\"data\"] = data;\n",
              "\n",
              "    $(document).ready(function () {\n",
              "        \n",
              "        $('#39a887d2-868c-442b-a3ec-ff0e5fd2d64c').DataTable(dt_args);\n",
              "    });\n",
              "</script>\n",
              "</div>\n",
              "\n",
              "      <button class=\"colab-df-convert\" onclick=\"convertToInteractive('df-188fa3ae-7b42-4ca7-8a1e-59f14b9518c3')\"\n",
              "              title=\"Convert this dataframe to an interactive table.\"\n",
              "              style=\"display:none;\">\n",
              "        \n",
              "  <svg xmlns=\"http://www.w3.org/2000/svg\" height=\"24px\"viewBox=\"0 0 24 24\"\n",
              "       width=\"24px\">\n",
              "    <path d=\"M0 0h24v24H0V0z\" fill=\"none\"/>\n",
              "    <path d=\"M18.56 5.44l.94 2.06.94-2.06 2.06-.94-2.06-.94-.94-2.06-.94 2.06-2.06.94zm-11 1L8.5 8.5l.94-2.06 2.06-.94-2.06-.94L8.5 2.5l-.94 2.06-2.06.94zm10 10l.94 2.06.94-2.06 2.06-.94-2.06-.94-.94-2.06-.94 2.06-2.06.94z\"/><path d=\"M17.41 7.96l-1.37-1.37c-.4-.4-.92-.59-1.43-.59-.52 0-1.04.2-1.43.59L10.3 9.45l-7.72 7.72c-.78.78-.78 2.05 0 2.83L4 21.41c.39.39.9.59 1.41.59.51 0 1.02-.2 1.41-.59l7.78-7.78 2.81-2.81c.8-.78.8-2.07 0-2.86zM5.41 20L4 18.59l7.72-7.72 1.47 1.35L5.41 20z\"/>\n",
              "  </svg>\n",
              "      </button>\n",
              "      \n",
              "  <style>\n",
              "    .colab-df-container {\n",
              "      display:flex;\n",
              "      flex-wrap:wrap;\n",
              "      gap: 12px;\n",
              "    }\n",
              "\n",
              "    .colab-df-convert {\n",
              "      background-color: #E8F0FE;\n",
              "      border: none;\n",
              "      border-radius: 50%;\n",
              "      cursor: pointer;\n",
              "      display: none;\n",
              "      fill: #1967D2;\n",
              "      height: 32px;\n",
              "      padding: 0 0 0 0;\n",
              "      width: 32px;\n",
              "    }\n",
              "\n",
              "    .colab-df-convert:hover {\n",
              "      background-color: #E2EBFA;\n",
              "      box-shadow: 0px 1px 2px rgba(60, 64, 67, 0.3), 0px 1px 3px 1px rgba(60, 64, 67, 0.15);\n",
              "      fill: #174EA6;\n",
              "    }\n",
              "\n",
              "    [theme=dark] .colab-df-convert {\n",
              "      background-color: #3B4455;\n",
              "      fill: #D2E3FC;\n",
              "    }\n",
              "\n",
              "    [theme=dark] .colab-df-convert:hover {\n",
              "      background-color: #434B5C;\n",
              "      box-shadow: 0px 1px 3px 1px rgba(0, 0, 0, 0.15);\n",
              "      filter: drop-shadow(0px 1px 2px rgba(0, 0, 0, 0.3));\n",
              "      fill: #FFFFFF;\n",
              "    }\n",
              "  </style>\n",
              "\n",
              "      <script>\n",
              "        const buttonEl =\n",
              "          document.querySelector('#df-188fa3ae-7b42-4ca7-8a1e-59f14b9518c3 button.colab-df-convert');\n",
              "        buttonEl.style.display =\n",
              "          google.colab.kernel.accessAllowed ? 'block' : 'none';\n",
              "\n",
              "        async function convertToInteractive(key) {\n",
              "          const element = document.querySelector('#df-188fa3ae-7b42-4ca7-8a1e-59f14b9518c3');\n",
              "          const dataTable =\n",
              "            await google.colab.kernel.invokeFunction('convertToInteractive',\n",
              "                                                     [key], {});\n",
              "          if (!dataTable) return;\n",
              "\n",
              "          const docLinkHtml = 'Like what you see? Visit the ' +\n",
              "            '<a target=\"_blank\" href=https://colab.research.google.com/notebooks/data_table.ipynb>data table notebook</a>'\n",
              "            + ' to learn more about interactive tables.';\n",
              "          element.innerHTML = '';\n",
              "          dataTable['output_type'] = 'display_data';\n",
              "          await google.colab.output.renderOutput(dataTable, element);\n",
              "          const docLink = document.createElement('div');\n",
              "          docLink.innerHTML = docLinkHtml;\n",
              "          element.appendChild(docLink);\n",
              "        }\n",
              "      </script>\n",
              "    </div>\n",
              "  </div>\n",
              "  "
            ],
            "text/plain": [
              "   index                                           features\n",
              "0   7780  [bots, console, resellers, snatching, many, pe...\n",
              "1  15708  [Psychotherapist, Nina, Jane, Patel, Facebook,...\n",
              "2  11975  [upcoming, season, 92nd, Street, Y, feature, ’...\n",
              "3  12986  [LOS, ANGELES, Pinchas, old, Steven, Spielberg...\n",
              "4   5671  [New, York, City, February, missed, subway, tr..."
            ]
          },
          "execution_count": 69,
          "metadata": {},
          "output_type": "execute_result"
        }
      ],
      "source": [
        "#OPTIONAL STEP! Try with and without to see how the results change.\n",
        "#For more about n-grams see: https://towardsdatascience.com/understanding-word-n-grams-and-n-gram-probability-in-natural-language-processing-9d9eef0fa058\n",
        "#Add bigrams and trigrams to docs (only ones that appear 50 times or more in this attepmt, which is a random choice).\n",
        "bigram = Phrases(articles['features'], min_count=50)\n",
        "for idx in range(len(articles['features'])):\n",
        "    for token in bigram[articles['features'][idx]]:\n",
        "        if '_' in token:\n",
        "            # Token is a bigram, add to document.\n",
        "            articles['features'][idx].append(token)\n",
        "\n",
        "articles.head()"
      ]
    },
    {
      "cell_type": "markdown",
      "metadata": {
        "id": "LvoPNQfBWSid"
      },
      "source": [
        "##### B.3) Calculate coherence scores and see if they can assist in determining the number of clusters. Try with the different datasets, different feature selections, and methods for calculating coherence."
      ]
    },
    {
      "cell_type": "code",
      "execution_count": null,
      "metadata": {
        "id": "7CAD2NCFWSid"
      },
      "outputs": [],
      "source": [
        "#Use a function for the coherence score, try different coherence metrics ({'u_mass', 'c_v', 'c_uci', 'c_npmi'}, optional) and compare results.\n",
        "#More info: https://radimrehurek.com/gensim/models/coherencemodel.html\n",
        "#c_v = the closer to 1, \"the better\"\n",
        "#u_mass = the closer to 0, \"the better\"\n",
        "\n",
        "#Note: the coherence scores are not great for this dataset! \n",
        "#That can have many reasons but also doesn't mean that the results are not interpretable. \n",
        "#They can try to tweak the scores by excluding words, changing the feature selection etc.\n",
        "#The way the news cover the topic in the articles might be rather homogenous.\n",
        "#In any case, human validation of topics is needed!\n"
      ]
    },
    {
      "cell_type": "code",
      "execution_count": null,
      "metadata": {
        "id": "LbCbBljFWSid"
      },
      "outputs": [],
      "source": [
        "#Function for calculating coherence scores\n",
        "def coherence_values(dictionary, corpus, texts, limit, start, step):\n",
        "    coherence_values = []\n",
        "    model_list = []\n",
        "    for num_topics in range(start, limit, step):\n",
        "        print('Calculating for',num_topics,'topics')\n",
        "        model = LdaModel(corpus=corpus, num_topics=num_topics)\n",
        "        model_list.append(model)\n",
        "\n",
        "        #You can adjust the method for coherence here (replace 'c_v' with any other method from the list above)\n",
        "        coherencemodel = CoherenceModel(model=model, texts=texts, dictionary=dictionary, coherence='c_v')\n",
        "        coherence_values.append(coherencemodel.get_coherence())\n",
        "    return model_list, coherence_values\n",
        "\n",
        "#create dictionary\n",
        "id2word = corpora.Dictionary(articles['features'])\n",
        "\n",
        "#Create a dictionary representation of the documents.\n",
        "#dictionary = Dictionary(articles['features'])\n",
        "\n",
        "#Filter out words that occur in less than 20 documents or more than 50% of the documents. You can experiment with different values here.\n",
        "id2word.filter_extremes(no_below=10, no_above=0.4)\n",
        "\n",
        "#Create corpus\n",
        "corpus = [id2word.doc2bow(doc) for doc in articles['features']]\n",
        "#corpus = [dictionary.doc2bow(doc) for doc in articles['features']]\n",
        "\n",
        "start = 5\n",
        "limit = 20\n",
        "step = 1\n",
        "\n",
        "model_list, coherence_values = coherence_values(dictionary=id2word, corpus=corpus, texts=articles['features'], start=start, limit=limit, step=step)\n"
      ]
    },
    {
      "cell_type": "markdown",
      "metadata": {
        "id": "aoLojoXyWSie"
      },
      "source": [
        "##### B.4) Create a line plot with the coherence scores with number of clusters/topics on the x-axis and the scores on the y-axis. \n"
      ]
    },
    {
      "cell_type": "code",
      "execution_count": null,
      "metadata": {
        "colab": {
          "base_uri": "https://localhost:8080/",
          "height": 714
        },
        "id": "kDcpsEScWSie",
        "outputId": "37bf6f3e-6575-40a5-e1fe-483c0f544f8f"
      },
      "outputs": [
        {
          "data": {
            "image/png": "[encoded data removed]",
            "text/plain": [
              "<Figure size 864x864 with 1 Axes>"
            ]
          },
          "metadata": {
            "needs_background": "light"
          },
          "output_type": "display_data"
        }
      ],
      "source": [
        "#Visualise the coherence scores in a plot - there a various ways to create graphs in Python, below we use matplotlib (https://matplotlib.org)\n",
        "x = range(start, limit, step)\n",
        "plt.figure(figsize=(12,12))\n",
        "plt.plot(x, coherence_values)\n",
        "plt.xlabel(\"Num Topics\")\n",
        "plt.ylabel(\"Coherence score\")\n",
        "plt.legend((\"coherence_values\"), loc='best')\n",
        "plt.vlines(x[np.argmax(coherence_values)], plt.ylim()[0], plt.ylim()[1],linestyles='dashed')\n",
        "plt.show()"
      ]
    },
    {
      "cell_type": "code",
      "execution_count": null,
      "metadata": {
        "colab": {
          "base_uri": "https://localhost:8080/"
        },
        "id": "-bSZHxBxkQY9",
        "outputId": "4ab2a95b-3c4f-45ec-8827-aae69cf06dc5"
      },
      "outputs": [
        {
          "data": {
            "text/plain": [
              "[0.2819389394219624,\n",
              " 0.2922341640575246,\n",
              " 0.2967810372828726,\n",
              " 0.2779172111341075,\n",
              " 0.28748059368212225,\n",
              " 0.2787987295288871,\n",
              " 0.2882042087202397,\n",
              " 0.2811479120222862,\n",
              " 0.27181231250564436,\n",
              " 0.28372543713320514,\n",
              " 0.29393061553936295,\n",
              " 0.30308495606805996,\n",
              " 0.29477593665001073,\n",
              " 0.2918499177400913,\n",
              " 0.2921650774737842]"
            ]
          },
          "execution_count": 73,
          "metadata": {},
          "output_type": "execute_result"
        }
      ],
      "source": [
        "coherence_values\n"
      ]
    },
    {
      "cell_type": "markdown",
      "metadata": {
        "id": "Kg3pxID0WSie"
      },
      "source": [
        "##### B.5) Create a list of the coherence values."
      ]
    },
    {
      "cell_type": "code",
      "execution_count": null,
      "metadata": {
        "colab": {
          "base_uri": "https://localhost:8080/"
        },
        "id": "vPcg58KOWSif",
        "outputId": "9899068d-f984-42a5-8155-bf4c5c1f04b3"
      },
      "outputs": [
        {
          "name": "stdout",
          "output_type": "stream",
          "text": [
            "Num Topics = 5  has Coherence Value of 0.2819\n",
            "Num Topics = 6  has Coherence Value of 0.2922\n",
            "Num Topics = 7  has Coherence Value of 0.2968\n",
            "Num Topics = 8  has Coherence Value of 0.2779\n",
            "Num Topics = 9  has Coherence Value of 0.2875\n",
            "Num Topics = 10  has Coherence Value of 0.2788\n",
            "Num Topics = 11  has Coherence Value of 0.2882\n",
            "Num Topics = 12  has Coherence Value of 0.2811\n",
            "Num Topics = 13  has Coherence Value of 0.2718\n",
            "Num Topics = 14  has Coherence Value of 0.2837\n",
            "Num Topics = 15  has Coherence Value of 0.2939\n",
            "Num Topics = 16  has Coherence Value of 0.3031\n",
            "Num Topics = 17  has Coherence Value of 0.2948\n",
            "Num Topics = 18  has Coherence Value of 0.2918\n",
            "Num Topics = 19  has Coherence Value of 0.2922\n"
          ]
        }
      ],
      "source": [
        "#list the coherence scores\n",
        "for m, cv in zip(x, coherence_values):\n",
        "    print(\"Num Topics =\", m, \" has Coherence Value of\", round(cv, 4))"
      ]
    },
    {
      "cell_type": "markdown",
      "metadata": {
        "id": "xQOGhdIwWSif"
      },
      "source": [
        "##### B.6) Choose a K and do the LDA!"
      ]
    },
    {
      "cell_type": "code",
      "execution_count": null,
      "metadata": {
        "colab": {
          "base_uri": "https://localhost:8080/"
        },
        "id": "DHVhJ0J4WSif",
        "outputId": "2c783bfa-d86c-47fa-f648-b013f60b5cef"
      },
      "outputs": [
        {
          "name": "stderr",
          "output_type": "stream",
          "text": [
            "WARNING:gensim.models.ldamodel:too few updates, training might not converge; consider increasing the number of passes or iterations to improve accuracy\n"
          ]
        },
        {
          "data": {
            "text/plain": [
              "[(0,\n",
              "  '0.004*\"Google\" + 0.004*\"Mr.\" + 0.003*\"content\" + 0.003*\"viewed\" + 0.002*\"companies\" + 0.002*\"China\" + 0.002*\"Facebook\" + 0.002*\"data\" + 0.002*\"site_originates\" + 0.002*\"content_viewed\"'),\n",
              " (1,\n",
              "  '0.004*\"data\" + 0.004*\"Google\" + 0.003*\"Facebook\" + 0.003*\"game\" + 0.002*\"Mr.\" + 0.002*\"companies\" + 0.002*\"lot\" + 0.002*\"working\" + 0.002*\"Apple\" + 0.002*\"software\"'),\n",
              " (2,\n",
              "  '0.004*\"data\" + 0.003*\"New\" + 0.003*\"Mr.\" + 0.002*\"AI\" + 0.002*\"life\" + 0.002*\".\" + 0.002*\"go\" + 0.002*\"human\" + 0.002*\"percent\" + 0.002*\"Amazon\"'),\n",
              " (3,\n",
              "  '0.002*\"companies\" + 0.002*\"data\" + 0.002*\"AI\" + 0.002*\"say\" + 0.002*\"system\" + 0.002*\"game\" + 0.002*\"information\" + 0.002*\"example\" + 0.002*\"government\" + 0.002*\"found\"'),\n",
              " (4,\n",
              "  '0.005*\"Mr.\" + 0.004*\"game\" + 0.003*\"Google\" + 0.003*\"data\" + 0.003*\"AI\" + 0.002*\".\" + 0.002*\"human\" + 0.002*\"companies\" + 0.002*\"China\" + 0.002*\"games\"'),\n",
              " (5,\n",
              "  '0.004*\"data\" + 0.003*\"Facebook\" + 0.003*\"Mr.\" + 0.003*\".\" + 0.002*\"percent\" + 0.002*\"companies\" + 0.002*\"software\" + 0.002*\"Google\" + 0.002*\"University\" + 0.002*\"things\"'),\n",
              " (6,\n",
              "  '0.007*\"AI\" + 0.004*\"Google\" + 0.003*\"Facebook\" + 0.003*\"data\" + 0.003*\"human\" + 0.003*\"Amazon\" + 0.002*\"companies\" + 0.002*\".\" + 0.002*\"Apple\" + 0.002*\"Mr.\"'),\n",
              " (7,\n",
              "  '0.003*\"Facebook\" + 0.003*\".\" + 0.002*\"data\" + 0.002*\"AI\" + 0.002*\"companies\" + 0.002*\"Mr.\" + 0.002*\"human\" + 0.002*\"go\" + 0.002*\"game\" + 0.002*\"tech\"'),\n",
              " (8,\n",
              "  '0.004*\"data\" + 0.003*\"Facebook\" + 0.002*\"system\" + 0.002*\"content\" + 0.002*\"human\" + 0.002*\"life\" + 0.002*\"Mr.\" + 0.002*\"things\" + 0.002*\"social\" + 0.002*\"found\"'),\n",
              " (9,\n",
              "  '0.003*\"data\" + 0.003*\"system\" + 0.002*\"Mr.\" + 0.002*\"tech\" + 0.002*\"AI\" + 0.002*\"New\" + 0.002*\"research\" + 0.002*\"things\" + 0.002*\"companies\" + 0.002*\"lot\"'),\n",
              " (10,\n",
              "  '0.003*\"Google\" + 0.003*\"AI\" + 0.003*\"Mr.\" + 0.003*\"Apple\" + 0.002*\"human\" + 0.002*\".\" + 0.002*\"data\" + 0.002*\"companies\" + 0.002*\"things\" + 0.002*\"system\"'),\n",
              " (11,\n",
              "  '0.004*\"Google\" + 0.004*\"human\" + 0.003*\"companies\" + 0.003*\"AI\" + 0.003*\"Mr.\" + 0.003*\"Facebook\" + 0.003*\"data\" + 0.002*\"China\" + 0.002*\"information\" + 0.002*\"artificial\"'),\n",
              " (12,\n",
              "  '0.004*\"site\" + 0.004*\"content\" + 0.003*\"content_viewed\" + 0.003*\"site_originates\" + 0.003*\"originates\" + 0.003*\"viewed\" + 0.003*\"data\" + 0.002*\"Mr.\" + 0.002*\"things\" + 0.002*\"go\"'),\n",
              " (13,\n",
              "  '0.004*\"Google\" + 0.003*\"Facebook\" + 0.003*\".\" + 0.002*\"AI\" + 0.002*\"data\" + 0.002*\"human\" + 0.002*\"companies\" + 0.002*\"say\" + 0.002*\"space\" + 0.002*\"China\"'),\n",
              " (14,\n",
              "  '0.005*\"data\" + 0.003*\"Mr.\" + 0.003*\"Facebook\" + 0.003*\"Google\" + 0.002*\"human\" + 0.002*\"companies\" + 0.002*\"tech\" + 0.002*\"say\" + 0.002*\"site\" + 0.002*\"content\"'),\n",
              " (15,\n",
              "  '0.003*\"Google\" + 0.002*\"lot\" + 0.002*\"different\" + 0.002*\"game\" + 0.002*\"data\" + 0.002*\"companies\" + 0.002*\"go\" + 0.002*\"big\" + 0.002*\"say\" + 0.002*\"government\"')]"
            ]
          },
          "execution_count": 81,
          "metadata": {},
          "output_type": "execute_result"
        }
      ],
      "source": [
        "#Adjust num_topics to nmuber of topics with highest coherence score. Check if the results are intepretable as topics.\n",
        "#It perfectly fine to try different numbers of topics as coherence score merely offer orientation but do not necessarily indicate clear topics.\n",
        "model = LdaModel(corpus=corpus, num_topics=16,id2word=id2word)\n",
        "model.print_topics()"
      ]
    },
    {
      "cell_type": "markdown",
      "metadata": {
        "id": "pDd2BVbUWSig"
      },
      "source": [
        "##### B.7) Compare the results of TF-IDF and LDA topic modeling. What are the differences? How can you explain them?"
      ]
    },
    {
      "cell_type": "code",
      "execution_count": null,
      "metadata": {
        "id": "2TEtxvS1WSig"
      },
      "outputs": [],
      "source": [
        "#Note: the LDA results aren't great and there are many reasons for why that could be - preprocessing, the data, the parameters, chosen metrics...\n",
        "#It is the students' challenge to improve the results and reflect on the process\n",
        "#I will also tweak this script a bit for better results but there is no single 'correct' answer for these exercises\n",
        "#What is important is that students understand the impact of their choices along the way and the variability of results"
      ]
    },
    {
      "cell_type": "markdown",
      "metadata": {
        "id": "TRG11UyBWSig"
      },
      "source": [
        "##### B.8) Create a dictionary (JSON) and use it to look for a specific concept that you are interested. Check the lecture slides for examples. Count the occurrences of your concept(s). Mybe you can plot them over time? Reflect on the pros and cons of the dictionary approach."
      ]
    },
    {
      "cell_type": "code",
      "execution_count": null,
      "metadata": {
        "id": "FVe7r_gnWSig",
        "outputId": "796dd2d3-a1ff-4dc2-a395-ff2155c69ca2"
      },
      "outputs": [
        {
          "data": {
            "text/html": [
              "<div>\n",
              "<style scoped>\n",
              "    .dataframe tbody tr th:only-of-type {\n",
              "        vertical-align: middle;\n",
              "    }\n",
              "\n",
              "    .dataframe tbody tr th {\n",
              "        vertical-align: top;\n",
              "    }\n",
              "\n",
              "    .dataframe thead th {\n",
              "        text-align: right;\n",
              "    }\n",
              "</style>\n",
              "<table border=\"1\" class=\"dataframe\">\n",
              "  <thead>\n",
              "    <tr style=\"text-align: right;\">\n",
              "      <th></th>\n",
              "      <th>outlet</th>\n",
              "      <th>title</th>\n",
              "      <th>keywords</th>\n",
              "      <th>description</th>\n",
              "      <th>datetime</th>\n",
              "      <th>authors</th>\n",
              "      <th>category</th>\n",
              "      <th>body</th>\n",
              "      <th>text_nlp</th>\n",
              "      <th>features</th>\n",
              "      <th>k_means</th>\n",
              "      <th>title_count</th>\n",
              "      <th>description_count</th>\n",
              "      <th>body_count</th>\n",
              "      <th>Cybercrime</th>\n",
              "      <th>InformationDisorder</th>\n",
              "      <th>Surveillance</th>\n",
              "      <th>DataBias</th>\n",
              "    </tr>\n",
              "  </thead>\n",
              "  <tbody>\n",
              "    <tr>\n",
              "      <th>0</th>\n",
              "      <td>Wired</td>\n",
              "      <td>How to Watch Movies in Virtual Reality</td>\n",
              "      <td>['meta', 'netflix', 'amazon prime', 'oculus', ...</td>\n",
              "      <td>Setting up a VR cinema is simple and proves yo...</td>\n",
              "      <td>2022-01-09 07:00:00</td>\n",
              "      <td>['Reece Rogers']</td>\n",
              "      <td>Gear</td>\n",
              "      <td>With bots and console resellers snatching away...</td>\n",
              "      <td>(With, bots, and, console, resellers, snatchin...</td>\n",
              "      <td>bot console snatching many people chance purch...</td>\n",
              "      <td>6</td>\n",
              "      <td>0</td>\n",
              "      <td>0</td>\n",
              "      <td>0</td>\n",
              "      <td>0</td>\n",
              "      <td>0</td>\n",
              "      <td>0</td>\n",
              "      <td>0</td>\n",
              "    </tr>\n",
              "    <tr>\n",
              "      <th>1</th>\n",
              "      <td>Guardian</td>\n",
              "      <td>Can we create a moral metaverse?</td>\n",
              "      <td>['The metaverse', 'Virtual reality', 'Online a...</td>\n",
              "      <td>In the increasingly lifelike worlds of VR, hig...</td>\n",
              "      <td>2022-05-14 14:00:04</td>\n",
              "      <td>['Laurie Clarke']</td>\n",
              "      <td>Technology</td>\n",
              "      <td>Psychotherapist Nina Jane Patel had been on F...</td>\n",
              "      <td>( , Psychotherapist, Nina, Jane, Patel, had, b...</td>\n",
              "      <td>psychotherapist nina jane patel facebook horiz...</td>\n",
              "      <td>5</td>\n",
              "      <td>0</td>\n",
              "      <td>0</td>\n",
              "      <td>0</td>\n",
              "      <td>1</td>\n",
              "      <td>0</td>\n",
              "      <td>0</td>\n",
              "      <td>0</td>\n",
              "    </tr>\n",
              "    <tr>\n",
              "      <th>2</th>\n",
              "      <td>NYT</td>\n",
              "      <td>92nd Street Y to Host Ron Howard, Gwyneth Palt...</td>\n",
              "      <td>['Books', 'Ninety-Second Street Y', 'Gwyneth P...</td>\n",
              "      <td>The 2019-20 season also features appearances b...</td>\n",
              "      <td>2019-07-17 17:00:04</td>\n",
              "      <td>Sara Aridi</td>\n",
              "      <td>Arts</td>\n",
              "      <td>The upcoming season at 92nd Street Y will feat...</td>\n",
              "      <td>(The, upcoming, season, at, 92nd, Street, Y, w...</td>\n",
              "      <td>upcoming season nd street feature celebrity gu...</td>\n",
              "      <td>6</td>\n",
              "      <td>0</td>\n",
              "      <td>0</td>\n",
              "      <td>1</td>\n",
              "      <td>0</td>\n",
              "      <td>0</td>\n",
              "      <td>0</td>\n",
              "      <td>0</td>\n",
              "    </tr>\n",
              "    <tr>\n",
              "      <th>3</th>\n",
              "      <td>NYT</td>\n",
              "      <td>Steven Spielberg on Storytelling’s Power to Fi...</td>\n",
              "      <td>['Steven Spielberg', 'Shoah Foundation', 'War ...</td>\n",
              "      <td>The director is reissuing “Schindler’s List,” ...</td>\n",
              "      <td>2018-12-18 20:19:54</td>\n",
              "      <td>Adam Popescu</td>\n",
              "      <td>Arts</td>\n",
              "      <td>LOS ANGELES — “Pinchas, how old are you?” Stev...</td>\n",
              "      <td>(LOS, ANGELES, —, “, Pinchas, ,, how, old, are...</td>\n",
              "      <td>los angeles pinchas old steven spielberg asked...</td>\n",
              "      <td>6</td>\n",
              "      <td>0</td>\n",
              "      <td>0</td>\n",
              "      <td>1</td>\n",
              "      <td>0</td>\n",
              "      <td>0</td>\n",
              "      <td>0</td>\n",
              "      <td>2</td>\n",
              "    </tr>\n",
              "    <tr>\n",
              "      <th>4</th>\n",
              "      <td>Wired</td>\n",
              "      <td>Mass Transit Is in Jeopardy—and So Are Cities</td>\n",
              "      <td>['public transportation', 'mass transit', 'cit...</td>\n",
              "      <td>Subways and buses are the lifeblood of dense c...</td>\n",
              "      <td>2020-12-14 07:00:00</td>\n",
              "      <td>['Aarian Marshall']</td>\n",
              "      <td>Business</td>\n",
              "      <td>In the New York City of February 2020, a misse...</td>\n",
              "      <td>(In, the, New, York, City, of, February, 2020,...</td>\n",
              "      <td>new york city february missed subway train nui...</td>\n",
              "      <td>2</td>\n",
              "      <td>0</td>\n",
              "      <td>0</td>\n",
              "      <td>0</td>\n",
              "      <td>0</td>\n",
              "      <td>0</td>\n",
              "      <td>0</td>\n",
              "      <td>0</td>\n",
              "    </tr>\n",
              "  </tbody>\n",
              "</table>\n",
              "</div>"
            ],
            "text/plain": [
              "     outlet                                              title  \\\n",
              "0     Wired             How to Watch Movies in Virtual Reality   \n",
              "1  Guardian                   Can we create a moral metaverse?   \n",
              "2       NYT  92nd Street Y to Host Ron Howard, Gwyneth Palt...   \n",
              "3       NYT  Steven Spielberg on Storytelling’s Power to Fi...   \n",
              "4     Wired      Mass Transit Is in Jeopardy—and So Are Cities   \n",
              "\n",
              "                                            keywords  \\\n",
              "0  ['meta', 'netflix', 'amazon prime', 'oculus', ...   \n",
              "1  ['The metaverse', 'Virtual reality', 'Online a...   \n",
              "2  ['Books', 'Ninety-Second Street Y', 'Gwyneth P...   \n",
              "3  ['Steven Spielberg', 'Shoah Foundation', 'War ...   \n",
              "4  ['public transportation', 'mass transit', 'cit...   \n",
              "\n",
              "                                         description             datetime  \\\n",
              "0  Setting up a VR cinema is simple and proves yo...  2022-01-09 07:00:00   \n",
              "1  In the increasingly lifelike worlds of VR, hig...  2022-05-14 14:00:04   \n",
              "2  The 2019-20 season also features appearances b...  2019-07-17 17:00:04   \n",
              "3  The director is reissuing “Schindler’s List,” ...  2018-12-18 20:19:54   \n",
              "4  Subways and buses are the lifeblood of dense c...  2020-12-14 07:00:00   \n",
              "\n",
              "               authors    category  \\\n",
              "0     ['Reece Rogers']        Gear   \n",
              "1    ['Laurie Clarke']  Technology   \n",
              "2           Sara Aridi        Arts   \n",
              "3         Adam Popescu        Arts   \n",
              "4  ['Aarian Marshall']    Business   \n",
              "\n",
              "                                                body  \\\n",
              "0  With bots and console resellers snatching away...   \n",
              "1   Psychotherapist Nina Jane Patel had been on F...   \n",
              "2  The upcoming season at 92nd Street Y will feat...   \n",
              "3  LOS ANGELES — “Pinchas, how old are you?” Stev...   \n",
              "4  In the New York City of February 2020, a misse...   \n",
              "\n",
              "                                            text_nlp  \\\n",
              "0  (With, bots, and, console, resellers, snatchin...   \n",
              "1  ( , Psychotherapist, Nina, Jane, Patel, had, b...   \n",
              "2  (The, upcoming, season, at, 92nd, Street, Y, w...   \n",
              "3  (LOS, ANGELES, —, “, Pinchas, ,, how, old, are...   \n",
              "4  (In, the, New, York, City, of, February, 2020,...   \n",
              "\n",
              "                                            features  k_means  title_count  \\\n",
              "0  bot console snatching many people chance purch...        6            0   \n",
              "1  psychotherapist nina jane patel facebook horiz...        5            0   \n",
              "2  upcoming season nd street feature celebrity gu...        6            0   \n",
              "3  los angeles pinchas old steven spielberg asked...        6            0   \n",
              "4  new york city february missed subway train nui...        2            0   \n",
              "\n",
              "   description_count  body_count  Cybercrime  InformationDisorder  \\\n",
              "0                  0           0           0                    0   \n",
              "1                  0           0           1                    0   \n",
              "2                  0           1           0                    0   \n",
              "3                  0           1           0                    0   \n",
              "4                  0           0           0                    0   \n",
              "\n",
              "   Surveillance  DataBias  \n",
              "0             0         0  \n",
              "1             0         0  \n",
              "2             0         0  \n",
              "3             0         2  \n",
              "4             0         0  "
            ]
          },
          "execution_count": 72,
          "metadata": {},
          "output_type": "execute_result"
        }
      ],
      "source": [
        "#For this exmaple, I use a simple dictionary that links specific \"data risks\" to keywords that indicate their presence in a text.\n",
        "#The dictionary approach may appear simplistic or \"coarse\"/\"crude\" but has merit for scoping the occurrence of a concept in a corpus if well justified \n",
        "#Students can come up with any kind of concept they want to investigate in this way\n",
        "\n",
        "#Load the json that contains the dictionary\n",
        "pattern_type = 'risks2'\n",
        "patterns_file = '/Users/dennisnguyen/Desktop/Countries Tech Twitter/'+pattern_type+'.json'\n",
        "\n",
        "with open(patterns_file) as json_file:\n",
        "  patterns_json = json.load(json_file)\n",
        "  patterns = patterns_json['patterns']\n",
        "\n",
        "cybercrime_cyberwar = []\n",
        "infodisorder = []\n",
        "surveillance = []\n",
        "bias = []\n",
        "\n",
        "for p in patterns:\n",
        "  if p['label'] == 'CyberCrime_Cyberwar':\n",
        "    cybercrime_cyberwar.append(p['pattern'])\n",
        "  if p['label'] == 'Information Disorder':\n",
        "    infodisorder.append(p['pattern'])\n",
        "  if p['label'] == 'Surveillance':\n",
        "   surveillance.append(p['pattern'])\n",
        "  if p['label'] == 'Data Bias':\n",
        "    bias.append(p['pattern'])\n",
        "    \n",
        "\n",
        "#Join the strings into a premature regex expression \n",
        "cybercrime_cyberwar = '|'.join(cybercrime_cyberwar)\n",
        "infodisorder = '|'.join(infodisorder)\n",
        "surveillance = '|'.join(surveillance)\n",
        "bias = '|'.join(bias)\n",
        "\n",
        "\n",
        "#Regex to search for the keywords\n",
        "regex_cyber = re.compile(f\"(?<![a-z])((?<!')|(?<=''))(\"+cybercrime_cyberwar+\")(?![a-z])((?!')|(?=''))\")\n",
        "regex_info = re.compile(f\"(?<![a-z])((?<!')|(?<=''))(\"+infodisorder+\")(?![a-z])((?!')|(?=''))\")\n",
        "regex_surv = re.compile(f\"(?<![a-z])((?<!')|(?<=''))(\"+surveillance+\")(?![a-z])((?!')|(?=''))\")\n",
        "regex_bias = re.compile(f\"(?<![a-z])((?<!')|(?<=''))(\"+bias+\")(?![a-z])((?!')|(?=''))\")\n",
        "\n",
        "#Create new columns with counts per concepts\n",
        "df['Cybercrime'] = df['body'].str.count(regex_cyber)\n",
        "df['InformationDisorder'] = df['body'].str.count(regex_info)\n",
        "df['Surveillance'] = df['body'].str.count(regex_surv)\n",
        "df['DataBias'] = df['body'].str.count(regex_bias)\n",
        "\n",
        "df.head()\n"
      ]
    },
    {
      "cell_type": "code",
      "execution_count": null,
      "metadata": {
        "id": "6DXEow13WSih"
      },
      "outputs": [],
      "source": [
        "#Convert counts into binary 1/0 (occures/does not occur) per article\n",
        "df['Cyberwar & Cybercrime'] =  (df['Cybercrime']>0).astype(int)\n",
        "df['Information Disorder'] =  (df['InformationDisorder']>0).astype(int)\n",
        "df['Surveillance & Privacy Invasion'] =  (df['Surveillance']>0).astype(int)\n",
        "df['Data Bias'] =  (df['DataBias']>0).astype(int)"
      ]
    },
    {
      "cell_type": "code",
      "execution_count": null,
      "metadata": {
        "id": "47gB_BQNWSih",
        "outputId": "8da5ac9c-b1d6-4af9-e4ab-814cfb755f14"
      },
      "outputs": [
        {
          "name": "stdout",
          "output_type": "stream",
          "text": [
            "Cyberwar/Cybercrime count:  315\n",
            "Information Disorder count:  149\n",
            "Surveillance count:  350\n",
            "Data bias count:  313\n"
          ]
        }
      ],
      "source": [
        "#Get number of articles that refer to each concept\n",
        "print('Cyberwar/Cybercrime count: ', df['Cyberwar & Cybercrime'].sum())\n",
        "print('Information Disorder count: ', df['InformationDisorder'].sum())\n",
        "print('Surveillance count: ', df['Surveillance & Privacy Invasion'].sum())\n",
        "print('Data bias count: ', df['Data Bias'].sum())"
      ]
    },
    {
      "cell_type": "code",
      "execution_count": null,
      "metadata": {
        "id": "E_L4X35GWSii",
        "outputId": "b0d5daba-732a-4410-dd12-7ecbc18dd67f"
      },
      "outputs": [
        {
          "name": "stderr",
          "output_type": "stream",
          "text": [
            "/var/folders/x_/mx8j7y5d0291_gfhzd_j9v0h0000gn/T/ipykernel_1905/2443974103.py:3: SettingWithCopyWarning: \n",
            "A value is trying to be set on a copy of a slice from a DataFrame.\n",
            "Try using .loc[row_indexer,col_indexer] = value instead\n",
            "\n",
            "See the caveats in the documentation: https://pandas.pydata.org/pandas-docs/stable/user_guide/indexing.html#returning-a-view-versus-a-copy\n",
            "  df2['datetime'] = pd.to_datetime(df2['datetime'], errors ='coerce') #not very elegant but well...\n",
            "/var/folders/x_/mx8j7y5d0291_gfhzd_j9v0h0000gn/T/ipykernel_1905/2443974103.py:6: SettingWithCopyWarning: \n",
            "A value is trying to be set on a copy of a slice from a DataFrame.\n",
            "Try using .loc[row_indexer,col_indexer] = value instead\n",
            "\n",
            "See the caveats in the documentation: https://pandas.pydata.org/pandas-docs/stable/user_guide/indexing.html#returning-a-view-versus-a-copy\n",
            "  df2[\"year\"] = df2[\"datetime\"].dt.year\n"
          ]
        },
        {
          "data": {
            "text/html": [
              "<div>\n",
              "<style scoped>\n",
              "    .dataframe tbody tr th:only-of-type {\n",
              "        vertical-align: middle;\n",
              "    }\n",
              "\n",
              "    .dataframe tbody tr th {\n",
              "        vertical-align: top;\n",
              "    }\n",
              "\n",
              "    .dataframe thead th {\n",
              "        text-align: right;\n",
              "    }\n",
              "</style>\n",
              "<table border=\"1\" class=\"dataframe\">\n",
              "  <thead>\n",
              "    <tr style=\"text-align: right;\">\n",
              "      <th></th>\n",
              "      <th>Cyberwar &amp; Cybercrime</th>\n",
              "      <th>Information Disorder</th>\n",
              "      <th>Surveillance &amp; Privacy Invasion</th>\n",
              "      <th>Data Bias</th>\n",
              "    </tr>\n",
              "    <tr>\n",
              "      <th>datetime</th>\n",
              "      <th></th>\n",
              "      <th></th>\n",
              "      <th></th>\n",
              "      <th></th>\n",
              "    </tr>\n",
              "  </thead>\n",
              "  <tbody>\n",
              "    <tr>\n",
              "      <th>2002.0</th>\n",
              "      <td>0</td>\n",
              "      <td>0</td>\n",
              "      <td>0</td>\n",
              "      <td>0</td>\n",
              "    </tr>\n",
              "    <tr>\n",
              "      <th>2004.0</th>\n",
              "      <td>0</td>\n",
              "      <td>0</td>\n",
              "      <td>0</td>\n",
              "      <td>0</td>\n",
              "    </tr>\n",
              "    <tr>\n",
              "      <th>2005.0</th>\n",
              "      <td>1</td>\n",
              "      <td>0</td>\n",
              "      <td>0</td>\n",
              "      <td>0</td>\n",
              "    </tr>\n",
              "    <tr>\n",
              "      <th>2006.0</th>\n",
              "      <td>2</td>\n",
              "      <td>0</td>\n",
              "      <td>0</td>\n",
              "      <td>1</td>\n",
              "    </tr>\n",
              "    <tr>\n",
              "      <th>2007.0</th>\n",
              "      <td>3</td>\n",
              "      <td>0</td>\n",
              "      <td>0</td>\n",
              "      <td>0</td>\n",
              "    </tr>\n",
              "    <tr>\n",
              "      <th>2008.0</th>\n",
              "      <td>0</td>\n",
              "      <td>0</td>\n",
              "      <td>2</td>\n",
              "      <td>3</td>\n",
              "    </tr>\n",
              "    <tr>\n",
              "      <th>2009.0</th>\n",
              "      <td>1</td>\n",
              "      <td>0</td>\n",
              "      <td>1</td>\n",
              "      <td>0</td>\n",
              "    </tr>\n",
              "    <tr>\n",
              "      <th>2010.0</th>\n",
              "      <td>3</td>\n",
              "      <td>0</td>\n",
              "      <td>1</td>\n",
              "      <td>2</td>\n",
              "    </tr>\n",
              "    <tr>\n",
              "      <th>2011.0</th>\n",
              "      <td>0</td>\n",
              "      <td>0</td>\n",
              "      <td>1</td>\n",
              "      <td>1</td>\n",
              "    </tr>\n",
              "    <tr>\n",
              "      <th>2012.0</th>\n",
              "      <td>2</td>\n",
              "      <td>0</td>\n",
              "      <td>3</td>\n",
              "      <td>1</td>\n",
              "    </tr>\n",
              "    <tr>\n",
              "      <th>2013.0</th>\n",
              "      <td>1</td>\n",
              "      <td>0</td>\n",
              "      <td>2</td>\n",
              "      <td>0</td>\n",
              "    </tr>\n",
              "    <tr>\n",
              "      <th>2014.0</th>\n",
              "      <td>2</td>\n",
              "      <td>2</td>\n",
              "      <td>4</td>\n",
              "      <td>4</td>\n",
              "    </tr>\n",
              "    <tr>\n",
              "      <th>2015.0</th>\n",
              "      <td>6</td>\n",
              "      <td>1</td>\n",
              "      <td>2</td>\n",
              "      <td>4</td>\n",
              "    </tr>\n",
              "    <tr>\n",
              "      <th>2016.0</th>\n",
              "      <td>12</td>\n",
              "      <td>3</td>\n",
              "      <td>8</td>\n",
              "      <td>7</td>\n",
              "    </tr>\n",
              "    <tr>\n",
              "      <th>2017.0</th>\n",
              "      <td>28</td>\n",
              "      <td>10</td>\n",
              "      <td>17</td>\n",
              "      <td>26</td>\n",
              "    </tr>\n",
              "    <tr>\n",
              "      <th>2018.0</th>\n",
              "      <td>19</td>\n",
              "      <td>13</td>\n",
              "      <td>36</td>\n",
              "      <td>38</td>\n",
              "    </tr>\n",
              "    <tr>\n",
              "      <th>2019.0</th>\n",
              "      <td>69</td>\n",
              "      <td>35</td>\n",
              "      <td>84</td>\n",
              "      <td>56</td>\n",
              "    </tr>\n",
              "    <tr>\n",
              "      <th>2020.0</th>\n",
              "      <td>63</td>\n",
              "      <td>42</td>\n",
              "      <td>82</td>\n",
              "      <td>62</td>\n",
              "    </tr>\n",
              "    <tr>\n",
              "      <th>2021.0</th>\n",
              "      <td>63</td>\n",
              "      <td>30</td>\n",
              "      <td>61</td>\n",
              "      <td>77</td>\n",
              "    </tr>\n",
              "    <tr>\n",
              "      <th>2022.0</th>\n",
              "      <td>40</td>\n",
              "      <td>13</td>\n",
              "      <td>46</td>\n",
              "      <td>31</td>\n",
              "    </tr>\n",
              "  </tbody>\n",
              "</table>\n",
              "</div>"
            ],
            "text/plain": [
              "          Cyberwar & Cybercrime  Information Disorder  \\\n",
              "datetime                                                \n",
              "2002.0                        0                     0   \n",
              "2004.0                        0                     0   \n",
              "2005.0                        1                     0   \n",
              "2006.0                        2                     0   \n",
              "2007.0                        3                     0   \n",
              "2008.0                        0                     0   \n",
              "2009.0                        1                     0   \n",
              "2010.0                        3                     0   \n",
              "2011.0                        0                     0   \n",
              "2012.0                        2                     0   \n",
              "2013.0                        1                     0   \n",
              "2014.0                        2                     2   \n",
              "2015.0                        6                     1   \n",
              "2016.0                       12                     3   \n",
              "2017.0                       28                    10   \n",
              "2018.0                       19                    13   \n",
              "2019.0                       69                    35   \n",
              "2020.0                       63                    42   \n",
              "2021.0                       63                    30   \n",
              "2022.0                       40                    13   \n",
              "\n",
              "          Surveillance & Privacy Invasion  Data Bias  \n",
              "datetime                                              \n",
              "2002.0                                  0          0  \n",
              "2004.0                                  0          0  \n",
              "2005.0                                  0          0  \n",
              "2006.0                                  0          1  \n",
              "2007.0                                  0          0  \n",
              "2008.0                                  2          3  \n",
              "2009.0                                  1          0  \n",
              "2010.0                                  1          2  \n",
              "2011.0                                  1          1  \n",
              "2012.0                                  3          1  \n",
              "2013.0                                  2          0  \n",
              "2014.0                                  4          4  \n",
              "2015.0                                  2          4  \n",
              "2016.0                                  8          7  \n",
              "2017.0                                 17         26  \n",
              "2018.0                                 36         38  \n",
              "2019.0                                 84         56  \n",
              "2020.0                                 82         62  \n",
              "2021.0                                 61         77  \n",
              "2022.0                                 46         31  "
            ]
          },
          "execution_count": 84,
          "metadata": {},
          "output_type": "execute_result"
        }
      ],
      "source": [
        "#Note: This part still needs some minor debugging!\n",
        "\n",
        "#Convert string date-time to datetime\n",
        "df2 = df[['datetime','Cyberwar & Cybercrime', 'Information Disorder', 'Surveillance & Privacy Invasion', 'Data Bias']]\n",
        "df2['datetime'] = pd.to_datetime(df2['datetime'], errors ='coerce') #not very elegant but well...\n",
        "\n",
        "#Get just the year \n",
        "df2[\"year\"] = df2[\"datetime\"].dt.year\n",
        "\n",
        "#Group by Year\n",
        "df2.groupby([df2[\"datetime\"].dt.year])[['datetime','Cyberwar & Cybercrime', 'Information Disorder', 'Surveillance & Privacy Invasion', 'Data Bias']].sum()\n"
      ]
    },
    {
      "cell_type": "code",
      "execution_count": null,
      "metadata": {
        "id": "Szl2oXa7WSii",
        "outputId": "ec1f0c50-1a70-4461-c826-309eccb23fdf"
      },
      "outputs": [
        {
          "data": {
            "image/png": "[encoded data removed]",
            "text/plain": [
              "<Figure size 576x432 with 1 Axes>"
            ]
          },
          "metadata": {},
          "output_type": "display_data"
        }
      ],
      "source": [
        "graph = df2.groupby([df2[\"datetime\"].dt.year])[['Cyberwar & Cybercrime', 'Information Disorder', 'Surveillance & Privacy Invasion', 'Data Bias']].sum().plot(kind='line', figsize = (8, 6))"
      ]
    }
  ],
  "metadata": {
    "colab": {
      "machine_shape": "hm",
      "provenance": []
    },
    "gpuClass": "standard",
    "kernelspec": {
      "display_name": "Python 3 (ipykernel)",
      "language": "python",
      "name": "python3"
    },
    "language_info": {
      "codemirror_mode": {
        "name": "ipython",
        "version": 3
      },
      "file_extension": ".py",
      "mimetype": "text/x-python",
      "name": "python",
      "nbconvert_exporter": "python",
      "pygments_lexer": "ipython3",
      "version": "3.9.12"
    },
    "vscode": {
      "interpreter": {
        "hash": "b0fa6594d8f4cbf19f97940f81e996739fb7646882a419484c72d19e05852a7e"
      }
    }
  },
  "nbformat": 4,
  "nbformat_minor": 0
}
