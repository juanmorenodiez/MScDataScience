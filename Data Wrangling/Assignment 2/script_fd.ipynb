{
 "cells": [
  {
   "cell_type": "code",
   "execution_count": 1,
   "id": "7e35e7e0",
   "metadata": {},
   "outputs": [],
   "source": [
    "import pandas as pd"
   ]
  },
  {
   "cell_type": "code",
   "execution_count": 2,
   "id": "b878d1c2",
   "metadata": {},
   "outputs": [
    {
     "name": "stdout",
     "output_type": "stream",
     "text": [
      "\n",
      "There are 52 violations\n",
      "\n",
      "['David', 'Jean', 'Dana', 'Carey', 'Dale', 'Erin', 'Corey', 'Stacy', 'Jamie', 'Alan', 'Jerry', 'Eric', 'Lee', 'Leslie', 'Rene', 'Donald', 'Terry', 'Taylor', 'Shawn', 'Frederick', 'Andre', 'Tracy', 'Antwan', 'Jesus', 'Juan', 'Andrea', 'Sun', 'Stacey', 'Torrie', 'Kelly', 'Sidney', 'Shannon', 'Danielle', 'Carroll', 'Deon', 'Randy', 'Dominique', 'M', 'Alexis', 'Jaime', 'Jin', 'Stefan', 'Angel', 'Noel', 'Kerry', 'Hilary', 'My', 'Ronnie', 'Yu', 'Marion', 'Hui', 'Maxie']\n"
     ]
    }
   ],
   "source": [
    "# read input data\n",
    "df = pd.read_csv(\"fdExample.csv\")\n",
    "\n",
    "names_genders_dict = {}\n",
    "\n",
    "# transform columns into python lists\n",
    "list_names = df['First name'].tolist()\n",
    "list_genders = df['Gender'].tolist()\n",
    "\n",
    "# iterate through the list of names in the dataframe\n",
    "# and make a dictionary in which the key contains\n",
    "# the names of the people and the value a list of the\n",
    "# genders that correspond to that name\n",
    "for index, name in enumerate(list_names):\n",
    "  # if the name is not already in the dict\n",
    "  # create a list with the genders thay may appear\n",
    "  if name not in names_genders_dict.keys():\n",
    "    names_genders_dict[name] = [list_genders[index]]\n",
    "  # if the name is already in the dict, append the gender\n",
    "  else:\n",
    "    names_genders_dict[name].append(list_genders[index])\n",
    "\n",
    "names_violations = []\n",
    "# iterate over all the names \n",
    "for key in names_genders_dict.keys():\n",
    "  # if the length of the genders without duplicates\n",
    "  # is more than 1, then there is a violation\n",
    "  if len(set(names_genders_dict[key])) > 1:\n",
    "    names_violations.append(key)\n",
    "\n",
    "print(\"\\nThere are {} violations\\n\".format(len(names_violations)))\n",
    "print(names_violations)"
   ]
  },
  {
   "cell_type": "code",
   "execution_count": null,
   "id": "84c5f21a",
   "metadata": {},
   "outputs": [],
   "source": []
  }
 ],
 "metadata": {
  "kernelspec": {
   "display_name": "Python 3 (ipykernel)",
   "language": "python",
   "name": "python3"
  },
  "language_info": {
   "codemirror_mode": {
    "name": "ipython",
    "version": 3
   },
   "file_extension": ".py",
   "mimetype": "text/x-python",
   "name": "python",
   "nbconvert_exporter": "python",
   "pygments_lexer": "ipython3",
   "version": "3.9.12"
  }
 },
 "nbformat": 4,
 "nbformat_minor": 5
}
